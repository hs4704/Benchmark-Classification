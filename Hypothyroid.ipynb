{
  "nbformat": 4,
  "nbformat_minor": 0,
  "metadata": {
    "colab": {
      "provenance": []
    },
    "kernelspec": {
      "name": "python3",
      "display_name": "Python 3"
    },
    "language_info": {
      "name": "python"
    }
  },
  "cells": [
    {
      "cell_type": "code",
      "execution_count": null,
      "metadata": {
        "colab": {
          "base_uri": "https://localhost:8080/"
        },
        "id": "ydcCotnkSe1P",
        "outputId": "0138263f-4c7b-4ca2-eae7-8c9e39cc90dc",
        "collapsed": true
      },
      "outputs": [
        {
          "output_type": "stream",
          "name": "stdout",
          "text": [
            "Drive already mounted at /content/drive; to attempt to forcibly remount, call drive.mount(\"/content/drive\", force_remount=True).\n"
          ]
        }
      ],
      "source": [
        "\n",
        "from google.colab import drive\n",
        "drive.mount('/content/drive')"
      ]
    },
    {
      "cell_type": "code",
      "source": [
        "import pandas as pd\n",
        "thyroid = pd.read_csv('/content/drive/MyDrive/hypothyroid.csv')\n",
        "thyroid.head()\n",
        "\n",
        "thyroid.info()"
      ],
      "metadata": {
        "colab": {
          "base_uri": "https://localhost:8080/"
        },
        "id": "xi4VvkwSkUwi",
        "outputId": "0c309944-b694-4b6a-f2c7-d0d5498528c0"
      },
      "execution_count": null,
      "outputs": [
        {
          "output_type": "stream",
          "name": "stdout",
          "text": [
            "<class 'pandas.core.frame.DataFrame'>\n",
            "RangeIndex: 3163 entries, 0 to 3162\n",
            "Data columns (total 26 columns):\n",
            " #   Column                     Non-Null Count  Dtype \n",
            "---  ------                     --------------  ----- \n",
            " 0   Unnamed: 0                 3163 non-null   object\n",
            " 1   Age                        3163 non-null   object\n",
            " 2   Sex                        3163 non-null   object\n",
            " 3   on_thyroxine               3163 non-null   object\n",
            " 4   query_on_thyroxine         3163 non-null   object\n",
            " 5   on_antithyroid_medication  3163 non-null   object\n",
            " 6   thyroid_surgery            3163 non-null   object\n",
            " 7   query_hypothyroid          3163 non-null   object\n",
            " 8   query_hyperthyroid         3163 non-null   object\n",
            " 9   pregnant                   3163 non-null   object\n",
            " 10  sick                       3163 non-null   object\n",
            " 11  tumor                      3163 non-null   object\n",
            " 12  lithium                    3163 non-null   object\n",
            " 13  goitre                     3163 non-null   object\n",
            " 14  TSH_measured               3163 non-null   object\n",
            " 15  TSH                        3163 non-null   object\n",
            " 16  T3_measured                3163 non-null   object\n",
            " 17  T3                         3163 non-null   object\n",
            " 18  TT4_measured               3163 non-null   object\n",
            " 19  TT4                        3163 non-null   object\n",
            " 20  T4U_measured               3163 non-null   object\n",
            " 21  T4U                        3163 non-null   object\n",
            " 22  FTI_measured               3163 non-null   object\n",
            " 23  FTI                        3163 non-null   object\n",
            " 24  TBG_measured               3163 non-null   object\n",
            " 25  TBG                        3163 non-null   object\n",
            "dtypes: object(26)\n",
            "memory usage: 642.6+ KB\n"
          ]
        }
      ]
    },
    {
      "cell_type": "code",
      "source": [
        "thyroid.head()"
      ],
      "metadata": {
        "colab": {
          "base_uri": "https://localhost:8080/",
          "height": 270
        },
        "id": "chtqN5n0r9Fg",
        "outputId": "f7adebab-dca4-4171-cf06-7a23a41a5eb8"
      },
      "execution_count": null,
      "outputs": [
        {
          "output_type": "execute_result",
          "data": {
            "text/plain": [
              "    Unnamed: 0 Age Sex on_thyroxine query_on_thyroxine  \\\n",
              "0  hypothyroid  72   M            f                  f   \n",
              "1  hypothyroid  15   F            t                  f   \n",
              "2  hypothyroid  24   M            f                  f   \n",
              "3  hypothyroid  24   F            f                  f   \n",
              "4  hypothyroid  77   M            f                  f   \n",
              "\n",
              "  on_antithyroid_medication thyroid_surgery query_hypothyroid  \\\n",
              "0                         f               f                 f   \n",
              "1                         f               f                 f   \n",
              "2                         f               f                 f   \n",
              "3                         f               f                 f   \n",
              "4                         f               f                 f   \n",
              "\n",
              "  query_hyperthyroid pregnant  ... T3_measured   T3 TT4_measured TT4  \\\n",
              "0                  f        f  ...           y  0.6            y  15   \n",
              "1                  f        f  ...           y  1.7            y  19   \n",
              "2                  f        f  ...           y  0.2            y   4   \n",
              "3                  f        f  ...           y  0.4            y   6   \n",
              "4                  f        f  ...           y  1.2            y  57   \n",
              "\n",
              "  T4U_measured   T4U FTI_measured FTI TBG_measured TBG  \n",
              "0            y  1.48            y  10            n   ?  \n",
              "1            y  1.13            y  17            n   ?  \n",
              "2            y     1            y   0            n   ?  \n",
              "3            y  1.04            y   6            n   ?  \n",
              "4            y  1.28            y  44            n   ?  \n",
              "\n",
              "[5 rows x 26 columns]"
            ],
            "text/html": [
              "\n",
              "  <div id=\"df-edaee79e-5164-4807-805a-699bbb8f7cc1\" class=\"colab-df-container\">\n",
              "    <div>\n",
              "<style scoped>\n",
              "    .dataframe tbody tr th:only-of-type {\n",
              "        vertical-align: middle;\n",
              "    }\n",
              "\n",
              "    .dataframe tbody tr th {\n",
              "        vertical-align: top;\n",
              "    }\n",
              "\n",
              "    .dataframe thead th {\n",
              "        text-align: right;\n",
              "    }\n",
              "</style>\n",
              "<table border=\"1\" class=\"dataframe\">\n",
              "  <thead>\n",
              "    <tr style=\"text-align: right;\">\n",
              "      <th></th>\n",
              "      <th>Unnamed: 0</th>\n",
              "      <th>Age</th>\n",
              "      <th>Sex</th>\n",
              "      <th>on_thyroxine</th>\n",
              "      <th>query_on_thyroxine</th>\n",
              "      <th>on_antithyroid_medication</th>\n",
              "      <th>thyroid_surgery</th>\n",
              "      <th>query_hypothyroid</th>\n",
              "      <th>query_hyperthyroid</th>\n",
              "      <th>pregnant</th>\n",
              "      <th>...</th>\n",
              "      <th>T3_measured</th>\n",
              "      <th>T3</th>\n",
              "      <th>TT4_measured</th>\n",
              "      <th>TT4</th>\n",
              "      <th>T4U_measured</th>\n",
              "      <th>T4U</th>\n",
              "      <th>FTI_measured</th>\n",
              "      <th>FTI</th>\n",
              "      <th>TBG_measured</th>\n",
              "      <th>TBG</th>\n",
              "    </tr>\n",
              "  </thead>\n",
              "  <tbody>\n",
              "    <tr>\n",
              "      <th>0</th>\n",
              "      <td>hypothyroid</td>\n",
              "      <td>72</td>\n",
              "      <td>M</td>\n",
              "      <td>f</td>\n",
              "      <td>f</td>\n",
              "      <td>f</td>\n",
              "      <td>f</td>\n",
              "      <td>f</td>\n",
              "      <td>f</td>\n",
              "      <td>f</td>\n",
              "      <td>...</td>\n",
              "      <td>y</td>\n",
              "      <td>0.6</td>\n",
              "      <td>y</td>\n",
              "      <td>15</td>\n",
              "      <td>y</td>\n",
              "      <td>1.48</td>\n",
              "      <td>y</td>\n",
              "      <td>10</td>\n",
              "      <td>n</td>\n",
              "      <td>?</td>\n",
              "    </tr>\n",
              "    <tr>\n",
              "      <th>1</th>\n",
              "      <td>hypothyroid</td>\n",
              "      <td>15</td>\n",
              "      <td>F</td>\n",
              "      <td>t</td>\n",
              "      <td>f</td>\n",
              "      <td>f</td>\n",
              "      <td>f</td>\n",
              "      <td>f</td>\n",
              "      <td>f</td>\n",
              "      <td>f</td>\n",
              "      <td>...</td>\n",
              "      <td>y</td>\n",
              "      <td>1.7</td>\n",
              "      <td>y</td>\n",
              "      <td>19</td>\n",
              "      <td>y</td>\n",
              "      <td>1.13</td>\n",
              "      <td>y</td>\n",
              "      <td>17</td>\n",
              "      <td>n</td>\n",
              "      <td>?</td>\n",
              "    </tr>\n",
              "    <tr>\n",
              "      <th>2</th>\n",
              "      <td>hypothyroid</td>\n",
              "      <td>24</td>\n",
              "      <td>M</td>\n",
              "      <td>f</td>\n",
              "      <td>f</td>\n",
              "      <td>f</td>\n",
              "      <td>f</td>\n",
              "      <td>f</td>\n",
              "      <td>f</td>\n",
              "      <td>f</td>\n",
              "      <td>...</td>\n",
              "      <td>y</td>\n",
              "      <td>0.2</td>\n",
              "      <td>y</td>\n",
              "      <td>4</td>\n",
              "      <td>y</td>\n",
              "      <td>1</td>\n",
              "      <td>y</td>\n",
              "      <td>0</td>\n",
              "      <td>n</td>\n",
              "      <td>?</td>\n",
              "    </tr>\n",
              "    <tr>\n",
              "      <th>3</th>\n",
              "      <td>hypothyroid</td>\n",
              "      <td>24</td>\n",
              "      <td>F</td>\n",
              "      <td>f</td>\n",
              "      <td>f</td>\n",
              "      <td>f</td>\n",
              "      <td>f</td>\n",
              "      <td>f</td>\n",
              "      <td>f</td>\n",
              "      <td>f</td>\n",
              "      <td>...</td>\n",
              "      <td>y</td>\n",
              "      <td>0.4</td>\n",
              "      <td>y</td>\n",
              "      <td>6</td>\n",
              "      <td>y</td>\n",
              "      <td>1.04</td>\n",
              "      <td>y</td>\n",
              "      <td>6</td>\n",
              "      <td>n</td>\n",
              "      <td>?</td>\n",
              "    </tr>\n",
              "    <tr>\n",
              "      <th>4</th>\n",
              "      <td>hypothyroid</td>\n",
              "      <td>77</td>\n",
              "      <td>M</td>\n",
              "      <td>f</td>\n",
              "      <td>f</td>\n",
              "      <td>f</td>\n",
              "      <td>f</td>\n",
              "      <td>f</td>\n",
              "      <td>f</td>\n",
              "      <td>f</td>\n",
              "      <td>...</td>\n",
              "      <td>y</td>\n",
              "      <td>1.2</td>\n",
              "      <td>y</td>\n",
              "      <td>57</td>\n",
              "      <td>y</td>\n",
              "      <td>1.28</td>\n",
              "      <td>y</td>\n",
              "      <td>44</td>\n",
              "      <td>n</td>\n",
              "      <td>?</td>\n",
              "    </tr>\n",
              "  </tbody>\n",
              "</table>\n",
              "<p>5 rows × 26 columns</p>\n",
              "</div>\n",
              "    <div class=\"colab-df-buttons\">\n",
              "\n",
              "  <div class=\"colab-df-container\">\n",
              "    <button class=\"colab-df-convert\" onclick=\"convertToInteractive('df-edaee79e-5164-4807-805a-699bbb8f7cc1')\"\n",
              "            title=\"Convert this dataframe to an interactive table.\"\n",
              "            style=\"display:none;\">\n",
              "\n",
              "  <svg xmlns=\"http://www.w3.org/2000/svg\" height=\"24px\" viewBox=\"0 -960 960 960\">\n",
              "    <path d=\"M120-120v-720h720v720H120Zm60-500h600v-160H180v160Zm220 220h160v-160H400v160Zm0 220h160v-160H400v160ZM180-400h160v-160H180v160Zm440 0h160v-160H620v160ZM180-180h160v-160H180v160Zm440 0h160v-160H620v160Z\"/>\n",
              "  </svg>\n",
              "    </button>\n",
              "\n",
              "  <style>\n",
              "    .colab-df-container {\n",
              "      display:flex;\n",
              "      gap: 12px;\n",
              "    }\n",
              "\n",
              "    .colab-df-convert {\n",
              "      background-color: #E8F0FE;\n",
              "      border: none;\n",
              "      border-radius: 50%;\n",
              "      cursor: pointer;\n",
              "      display: none;\n",
              "      fill: #1967D2;\n",
              "      height: 32px;\n",
              "      padding: 0 0 0 0;\n",
              "      width: 32px;\n",
              "    }\n",
              "\n",
              "    .colab-df-convert:hover {\n",
              "      background-color: #E2EBFA;\n",
              "      box-shadow: 0px 1px 2px rgba(60, 64, 67, 0.3), 0px 1px 3px 1px rgba(60, 64, 67, 0.15);\n",
              "      fill: #174EA6;\n",
              "    }\n",
              "\n",
              "    .colab-df-buttons div {\n",
              "      margin-bottom: 4px;\n",
              "    }\n",
              "\n",
              "    [theme=dark] .colab-df-convert {\n",
              "      background-color: #3B4455;\n",
              "      fill: #D2E3FC;\n",
              "    }\n",
              "\n",
              "    [theme=dark] .colab-df-convert:hover {\n",
              "      background-color: #434B5C;\n",
              "      box-shadow: 0px 1px 3px 1px rgba(0, 0, 0, 0.15);\n",
              "      filter: drop-shadow(0px 1px 2px rgba(0, 0, 0, 0.3));\n",
              "      fill: #FFFFFF;\n",
              "    }\n",
              "  </style>\n",
              "\n",
              "    <script>\n",
              "      const buttonEl =\n",
              "        document.querySelector('#df-edaee79e-5164-4807-805a-699bbb8f7cc1 button.colab-df-convert');\n",
              "      buttonEl.style.display =\n",
              "        google.colab.kernel.accessAllowed ? 'block' : 'none';\n",
              "\n",
              "      async function convertToInteractive(key) {\n",
              "        const element = document.querySelector('#df-edaee79e-5164-4807-805a-699bbb8f7cc1');\n",
              "        const dataTable =\n",
              "          await google.colab.kernel.invokeFunction('convertToInteractive',\n",
              "                                                    [key], {});\n",
              "        if (!dataTable) return;\n",
              "\n",
              "        const docLinkHtml = 'Like what you see? Visit the ' +\n",
              "          '<a target=\"_blank\" href=https://colab.research.google.com/notebooks/data_table.ipynb>data table notebook</a>'\n",
              "          + ' to learn more about interactive tables.';\n",
              "        element.innerHTML = '';\n",
              "        dataTable['output_type'] = 'display_data';\n",
              "        await google.colab.output.renderOutput(dataTable, element);\n",
              "        const docLink = document.createElement('div');\n",
              "        docLink.innerHTML = docLinkHtml;\n",
              "        element.appendChild(docLink);\n",
              "      }\n",
              "    </script>\n",
              "  </div>\n",
              "\n",
              "\n",
              "<div id=\"df-f5d29daa-0b84-4465-8f62-b29d540f0d19\">\n",
              "  <button class=\"colab-df-quickchart\" onclick=\"quickchart('df-f5d29daa-0b84-4465-8f62-b29d540f0d19')\"\n",
              "            title=\"Suggest charts\"\n",
              "            style=\"display:none;\">\n",
              "\n",
              "<svg xmlns=\"http://www.w3.org/2000/svg\" height=\"24px\"viewBox=\"0 0 24 24\"\n",
              "     width=\"24px\">\n",
              "    <g>\n",
              "        <path d=\"M19 3H5c-1.1 0-2 .9-2 2v14c0 1.1.9 2 2 2h14c1.1 0 2-.9 2-2V5c0-1.1-.9-2-2-2zM9 17H7v-7h2v7zm4 0h-2V7h2v10zm4 0h-2v-4h2v4z\"/>\n",
              "    </g>\n",
              "</svg>\n",
              "  </button>\n",
              "\n",
              "<style>\n",
              "  .colab-df-quickchart {\n",
              "      --bg-color: #E8F0FE;\n",
              "      --fill-color: #1967D2;\n",
              "      --hover-bg-color: #E2EBFA;\n",
              "      --hover-fill-color: #174EA6;\n",
              "      --disabled-fill-color: #AAA;\n",
              "      --disabled-bg-color: #DDD;\n",
              "  }\n",
              "\n",
              "  [theme=dark] .colab-df-quickchart {\n",
              "      --bg-color: #3B4455;\n",
              "      --fill-color: #D2E3FC;\n",
              "      --hover-bg-color: #434B5C;\n",
              "      --hover-fill-color: #FFFFFF;\n",
              "      --disabled-bg-color: #3B4455;\n",
              "      --disabled-fill-color: #666;\n",
              "  }\n",
              "\n",
              "  .colab-df-quickchart {\n",
              "    background-color: var(--bg-color);\n",
              "    border: none;\n",
              "    border-radius: 50%;\n",
              "    cursor: pointer;\n",
              "    display: none;\n",
              "    fill: var(--fill-color);\n",
              "    height: 32px;\n",
              "    padding: 0;\n",
              "    width: 32px;\n",
              "  }\n",
              "\n",
              "  .colab-df-quickchart:hover {\n",
              "    background-color: var(--hover-bg-color);\n",
              "    box-shadow: 0 1px 2px rgba(60, 64, 67, 0.3), 0 1px 3px 1px rgba(60, 64, 67, 0.15);\n",
              "    fill: var(--button-hover-fill-color);\n",
              "  }\n",
              "\n",
              "  .colab-df-quickchart-complete:disabled,\n",
              "  .colab-df-quickchart-complete:disabled:hover {\n",
              "    background-color: var(--disabled-bg-color);\n",
              "    fill: var(--disabled-fill-color);\n",
              "    box-shadow: none;\n",
              "  }\n",
              "\n",
              "  .colab-df-spinner {\n",
              "    border: 2px solid var(--fill-color);\n",
              "    border-color: transparent;\n",
              "    border-bottom-color: var(--fill-color);\n",
              "    animation:\n",
              "      spin 1s steps(1) infinite;\n",
              "  }\n",
              "\n",
              "  @keyframes spin {\n",
              "    0% {\n",
              "      border-color: transparent;\n",
              "      border-bottom-color: var(--fill-color);\n",
              "      border-left-color: var(--fill-color);\n",
              "    }\n",
              "    20% {\n",
              "      border-color: transparent;\n",
              "      border-left-color: var(--fill-color);\n",
              "      border-top-color: var(--fill-color);\n",
              "    }\n",
              "    30% {\n",
              "      border-color: transparent;\n",
              "      border-left-color: var(--fill-color);\n",
              "      border-top-color: var(--fill-color);\n",
              "      border-right-color: var(--fill-color);\n",
              "    }\n",
              "    40% {\n",
              "      border-color: transparent;\n",
              "      border-right-color: var(--fill-color);\n",
              "      border-top-color: var(--fill-color);\n",
              "    }\n",
              "    60% {\n",
              "      border-color: transparent;\n",
              "      border-right-color: var(--fill-color);\n",
              "    }\n",
              "    80% {\n",
              "      border-color: transparent;\n",
              "      border-right-color: var(--fill-color);\n",
              "      border-bottom-color: var(--fill-color);\n",
              "    }\n",
              "    90% {\n",
              "      border-color: transparent;\n",
              "      border-bottom-color: var(--fill-color);\n",
              "    }\n",
              "  }\n",
              "</style>\n",
              "\n",
              "  <script>\n",
              "    async function quickchart(key) {\n",
              "      const quickchartButtonEl =\n",
              "        document.querySelector('#' + key + ' button');\n",
              "      quickchartButtonEl.disabled = true;  // To prevent multiple clicks.\n",
              "      quickchartButtonEl.classList.add('colab-df-spinner');\n",
              "      try {\n",
              "        const charts = await google.colab.kernel.invokeFunction(\n",
              "            'suggestCharts', [key], {});\n",
              "      } catch (error) {\n",
              "        console.error('Error during call to suggestCharts:', error);\n",
              "      }\n",
              "      quickchartButtonEl.classList.remove('colab-df-spinner');\n",
              "      quickchartButtonEl.classList.add('colab-df-quickchart-complete');\n",
              "    }\n",
              "    (() => {\n",
              "      let quickchartButtonEl =\n",
              "        document.querySelector('#df-f5d29daa-0b84-4465-8f62-b29d540f0d19 button');\n",
              "      quickchartButtonEl.style.display =\n",
              "        google.colab.kernel.accessAllowed ? 'block' : 'none';\n",
              "    })();\n",
              "  </script>\n",
              "</div>\n",
              "\n",
              "    </div>\n",
              "  </div>\n"
            ],
            "application/vnd.google.colaboratory.intrinsic+json": {
              "type": "dataframe",
              "variable_name": "thyroid"
            }
          },
          "metadata": {},
          "execution_count": 3
        }
      ]
    },
    {
      "cell_type": "markdown",
      "source": [
        "## CLEANING DATA\n"
      ],
      "metadata": {
        "id": "qGJiUv37ryyk"
      }
    },
    {
      "cell_type": "code",
      "source": [
        "#Show all rows where _measured = n in thyroid data\n",
        "thyroid.loc[thyroid['TSH_measured']=='n',['TSH_measured','TSH']]"
      ],
      "metadata": {
        "colab": {
          "base_uri": "https://localhost:8080/",
          "height": 419
        },
        "id": "R1PlEJ8BSIQI",
        "outputId": "08cc3c0e-da89-4305-9088-816da7ba2c92"
      },
      "execution_count": null,
      "outputs": [
        {
          "output_type": "execute_result",
          "data": {
            "text/plain": [
              "     TSH_measured TSH\n",
              "55              n   ?\n",
              "152             n   ?\n",
              "166             n   ?\n",
              "170             n   ?\n",
              "179             n   ?\n",
              "...           ...  ..\n",
              "3124            n   ?\n",
              "3135            n   ?\n",
              "3136            n   ?\n",
              "3150            n   ?\n",
              "3152            n   ?\n",
              "\n",
              "[468 rows x 2 columns]"
            ],
            "text/html": [
              "\n",
              "  <div id=\"df-6715f70d-ccc7-42de-a7f1-43ecaed6ca91\" class=\"colab-df-container\">\n",
              "    <div>\n",
              "<style scoped>\n",
              "    .dataframe tbody tr th:only-of-type {\n",
              "        vertical-align: middle;\n",
              "    }\n",
              "\n",
              "    .dataframe tbody tr th {\n",
              "        vertical-align: top;\n",
              "    }\n",
              "\n",
              "    .dataframe thead th {\n",
              "        text-align: right;\n",
              "    }\n",
              "</style>\n",
              "<table border=\"1\" class=\"dataframe\">\n",
              "  <thead>\n",
              "    <tr style=\"text-align: right;\">\n",
              "      <th></th>\n",
              "      <th>TSH_measured</th>\n",
              "      <th>TSH</th>\n",
              "    </tr>\n",
              "  </thead>\n",
              "  <tbody>\n",
              "    <tr>\n",
              "      <th>55</th>\n",
              "      <td>n</td>\n",
              "      <td>?</td>\n",
              "    </tr>\n",
              "    <tr>\n",
              "      <th>152</th>\n",
              "      <td>n</td>\n",
              "      <td>?</td>\n",
              "    </tr>\n",
              "    <tr>\n",
              "      <th>166</th>\n",
              "      <td>n</td>\n",
              "      <td>?</td>\n",
              "    </tr>\n",
              "    <tr>\n",
              "      <th>170</th>\n",
              "      <td>n</td>\n",
              "      <td>?</td>\n",
              "    </tr>\n",
              "    <tr>\n",
              "      <th>179</th>\n",
              "      <td>n</td>\n",
              "      <td>?</td>\n",
              "    </tr>\n",
              "    <tr>\n",
              "      <th>...</th>\n",
              "      <td>...</td>\n",
              "      <td>...</td>\n",
              "    </tr>\n",
              "    <tr>\n",
              "      <th>3124</th>\n",
              "      <td>n</td>\n",
              "      <td>?</td>\n",
              "    </tr>\n",
              "    <tr>\n",
              "      <th>3135</th>\n",
              "      <td>n</td>\n",
              "      <td>?</td>\n",
              "    </tr>\n",
              "    <tr>\n",
              "      <th>3136</th>\n",
              "      <td>n</td>\n",
              "      <td>?</td>\n",
              "    </tr>\n",
              "    <tr>\n",
              "      <th>3150</th>\n",
              "      <td>n</td>\n",
              "      <td>?</td>\n",
              "    </tr>\n",
              "    <tr>\n",
              "      <th>3152</th>\n",
              "      <td>n</td>\n",
              "      <td>?</td>\n",
              "    </tr>\n",
              "  </tbody>\n",
              "</table>\n",
              "<p>468 rows × 2 columns</p>\n",
              "</div>\n",
              "    <div class=\"colab-df-buttons\">\n",
              "\n",
              "  <div class=\"colab-df-container\">\n",
              "    <button class=\"colab-df-convert\" onclick=\"convertToInteractive('df-6715f70d-ccc7-42de-a7f1-43ecaed6ca91')\"\n",
              "            title=\"Convert this dataframe to an interactive table.\"\n",
              "            style=\"display:none;\">\n",
              "\n",
              "  <svg xmlns=\"http://www.w3.org/2000/svg\" height=\"24px\" viewBox=\"0 -960 960 960\">\n",
              "    <path d=\"M120-120v-720h720v720H120Zm60-500h600v-160H180v160Zm220 220h160v-160H400v160Zm0 220h160v-160H400v160ZM180-400h160v-160H180v160Zm440 0h160v-160H620v160ZM180-180h160v-160H180v160Zm440 0h160v-160H620v160Z\"/>\n",
              "  </svg>\n",
              "    </button>\n",
              "\n",
              "  <style>\n",
              "    .colab-df-container {\n",
              "      display:flex;\n",
              "      gap: 12px;\n",
              "    }\n",
              "\n",
              "    .colab-df-convert {\n",
              "      background-color: #E8F0FE;\n",
              "      border: none;\n",
              "      border-radius: 50%;\n",
              "      cursor: pointer;\n",
              "      display: none;\n",
              "      fill: #1967D2;\n",
              "      height: 32px;\n",
              "      padding: 0 0 0 0;\n",
              "      width: 32px;\n",
              "    }\n",
              "\n",
              "    .colab-df-convert:hover {\n",
              "      background-color: #E2EBFA;\n",
              "      box-shadow: 0px 1px 2px rgba(60, 64, 67, 0.3), 0px 1px 3px 1px rgba(60, 64, 67, 0.15);\n",
              "      fill: #174EA6;\n",
              "    }\n",
              "\n",
              "    .colab-df-buttons div {\n",
              "      margin-bottom: 4px;\n",
              "    }\n",
              "\n",
              "    [theme=dark] .colab-df-convert {\n",
              "      background-color: #3B4455;\n",
              "      fill: #D2E3FC;\n",
              "    }\n",
              "\n",
              "    [theme=dark] .colab-df-convert:hover {\n",
              "      background-color: #434B5C;\n",
              "      box-shadow: 0px 1px 3px 1px rgba(0, 0, 0, 0.15);\n",
              "      filter: drop-shadow(0px 1px 2px rgba(0, 0, 0, 0.3));\n",
              "      fill: #FFFFFF;\n",
              "    }\n",
              "  </style>\n",
              "\n",
              "    <script>\n",
              "      const buttonEl =\n",
              "        document.querySelector('#df-6715f70d-ccc7-42de-a7f1-43ecaed6ca91 button.colab-df-convert');\n",
              "      buttonEl.style.display =\n",
              "        google.colab.kernel.accessAllowed ? 'block' : 'none';\n",
              "\n",
              "      async function convertToInteractive(key) {\n",
              "        const element = document.querySelector('#df-6715f70d-ccc7-42de-a7f1-43ecaed6ca91');\n",
              "        const dataTable =\n",
              "          await google.colab.kernel.invokeFunction('convertToInteractive',\n",
              "                                                    [key], {});\n",
              "        if (!dataTable) return;\n",
              "\n",
              "        const docLinkHtml = 'Like what you see? Visit the ' +\n",
              "          '<a target=\"_blank\" href=https://colab.research.google.com/notebooks/data_table.ipynb>data table notebook</a>'\n",
              "          + ' to learn more about interactive tables.';\n",
              "        element.innerHTML = '';\n",
              "        dataTable['output_type'] = 'display_data';\n",
              "        await google.colab.output.renderOutput(dataTable, element);\n",
              "        const docLink = document.createElement('div');\n",
              "        docLink.innerHTML = docLinkHtml;\n",
              "        element.appendChild(docLink);\n",
              "      }\n",
              "    </script>\n",
              "  </div>\n",
              "\n",
              "\n",
              "<div id=\"df-8f693f5d-5095-4c8a-8bca-8a7bb6f289f5\">\n",
              "  <button class=\"colab-df-quickchart\" onclick=\"quickchart('df-8f693f5d-5095-4c8a-8bca-8a7bb6f289f5')\"\n",
              "            title=\"Suggest charts\"\n",
              "            style=\"display:none;\">\n",
              "\n",
              "<svg xmlns=\"http://www.w3.org/2000/svg\" height=\"24px\"viewBox=\"0 0 24 24\"\n",
              "     width=\"24px\">\n",
              "    <g>\n",
              "        <path d=\"M19 3H5c-1.1 0-2 .9-2 2v14c0 1.1.9 2 2 2h14c1.1 0 2-.9 2-2V5c0-1.1-.9-2-2-2zM9 17H7v-7h2v7zm4 0h-2V7h2v10zm4 0h-2v-4h2v4z\"/>\n",
              "    </g>\n",
              "</svg>\n",
              "  </button>\n",
              "\n",
              "<style>\n",
              "  .colab-df-quickchart {\n",
              "      --bg-color: #E8F0FE;\n",
              "      --fill-color: #1967D2;\n",
              "      --hover-bg-color: #E2EBFA;\n",
              "      --hover-fill-color: #174EA6;\n",
              "      --disabled-fill-color: #AAA;\n",
              "      --disabled-bg-color: #DDD;\n",
              "  }\n",
              "\n",
              "  [theme=dark] .colab-df-quickchart {\n",
              "      --bg-color: #3B4455;\n",
              "      --fill-color: #D2E3FC;\n",
              "      --hover-bg-color: #434B5C;\n",
              "      --hover-fill-color: #FFFFFF;\n",
              "      --disabled-bg-color: #3B4455;\n",
              "      --disabled-fill-color: #666;\n",
              "  }\n",
              "\n",
              "  .colab-df-quickchart {\n",
              "    background-color: var(--bg-color);\n",
              "    border: none;\n",
              "    border-radius: 50%;\n",
              "    cursor: pointer;\n",
              "    display: none;\n",
              "    fill: var(--fill-color);\n",
              "    height: 32px;\n",
              "    padding: 0;\n",
              "    width: 32px;\n",
              "  }\n",
              "\n",
              "  .colab-df-quickchart:hover {\n",
              "    background-color: var(--hover-bg-color);\n",
              "    box-shadow: 0 1px 2px rgba(60, 64, 67, 0.3), 0 1px 3px 1px rgba(60, 64, 67, 0.15);\n",
              "    fill: var(--button-hover-fill-color);\n",
              "  }\n",
              "\n",
              "  .colab-df-quickchart-complete:disabled,\n",
              "  .colab-df-quickchart-complete:disabled:hover {\n",
              "    background-color: var(--disabled-bg-color);\n",
              "    fill: var(--disabled-fill-color);\n",
              "    box-shadow: none;\n",
              "  }\n",
              "\n",
              "  .colab-df-spinner {\n",
              "    border: 2px solid var(--fill-color);\n",
              "    border-color: transparent;\n",
              "    border-bottom-color: var(--fill-color);\n",
              "    animation:\n",
              "      spin 1s steps(1) infinite;\n",
              "  }\n",
              "\n",
              "  @keyframes spin {\n",
              "    0% {\n",
              "      border-color: transparent;\n",
              "      border-bottom-color: var(--fill-color);\n",
              "      border-left-color: var(--fill-color);\n",
              "    }\n",
              "    20% {\n",
              "      border-color: transparent;\n",
              "      border-left-color: var(--fill-color);\n",
              "      border-top-color: var(--fill-color);\n",
              "    }\n",
              "    30% {\n",
              "      border-color: transparent;\n",
              "      border-left-color: var(--fill-color);\n",
              "      border-top-color: var(--fill-color);\n",
              "      border-right-color: var(--fill-color);\n",
              "    }\n",
              "    40% {\n",
              "      border-color: transparent;\n",
              "      border-right-color: var(--fill-color);\n",
              "      border-top-color: var(--fill-color);\n",
              "    }\n",
              "    60% {\n",
              "      border-color: transparent;\n",
              "      border-right-color: var(--fill-color);\n",
              "    }\n",
              "    80% {\n",
              "      border-color: transparent;\n",
              "      border-right-color: var(--fill-color);\n",
              "      border-bottom-color: var(--fill-color);\n",
              "    }\n",
              "    90% {\n",
              "      border-color: transparent;\n",
              "      border-bottom-color: var(--fill-color);\n",
              "    }\n",
              "  }\n",
              "</style>\n",
              "\n",
              "  <script>\n",
              "    async function quickchart(key) {\n",
              "      const quickchartButtonEl =\n",
              "        document.querySelector('#' + key + ' button');\n",
              "      quickchartButtonEl.disabled = true;  // To prevent multiple clicks.\n",
              "      quickchartButtonEl.classList.add('colab-df-spinner');\n",
              "      try {\n",
              "        const charts = await google.colab.kernel.invokeFunction(\n",
              "            'suggestCharts', [key], {});\n",
              "      } catch (error) {\n",
              "        console.error('Error during call to suggestCharts:', error);\n",
              "      }\n",
              "      quickchartButtonEl.classList.remove('colab-df-spinner');\n",
              "      quickchartButtonEl.classList.add('colab-df-quickchart-complete');\n",
              "    }\n",
              "    (() => {\n",
              "      let quickchartButtonEl =\n",
              "        document.querySelector('#df-8f693f5d-5095-4c8a-8bca-8a7bb6f289f5 button');\n",
              "      quickchartButtonEl.style.display =\n",
              "        google.colab.kernel.accessAllowed ? 'block' : 'none';\n",
              "    })();\n",
              "  </script>\n",
              "</div>\n",
              "\n",
              "    </div>\n",
              "  </div>\n"
            ],
            "application/vnd.google.colaboratory.intrinsic+json": {
              "type": "dataframe",
              "summary": "{\n  \"name\": \"thyroid\",\n  \"rows\": 468,\n  \"fields\": [\n    {\n      \"column\": \"TSH_measured\",\n      \"properties\": {\n        \"dtype\": \"category\",\n        \"num_unique_values\": 1,\n        \"samples\": [\n          \"n\"\n        ],\n        \"semantic_type\": \"\",\n        \"description\": \"\"\n      }\n    },\n    {\n      \"column\": \"TSH\",\n      \"properties\": {\n        \"dtype\": \"category\",\n        \"num_unique_values\": 1,\n        \"samples\": [\n          \"?\"\n        ],\n        \"semantic_type\": \"\",\n        \"description\": \"\"\n      }\n    }\n  ]\n}"
            }
          },
          "metadata": {},
          "execution_count": 4
        }
      ]
    },
    {
      "cell_type": "code",
      "source": [
        "#convert '?' to NULL value in dataset\n",
        "import numpy as np\n",
        "thyroid_data = thyroid.replace('?', np.nan)\n",
        "print(thyroid_data.isnull().sum())"
      ],
      "metadata": {
        "colab": {
          "base_uri": "https://localhost:8080/"
        },
        "id": "yY3PSDbth7EX",
        "outputId": "063a8efc-7dd5-4cc6-90ed-ddad4d44154e"
      },
      "execution_count": null,
      "outputs": [
        {
          "output_type": "stream",
          "name": "stdout",
          "text": [
            "Unnamed: 0                      0\n",
            "Age                           446\n",
            "Sex                            73\n",
            "on_thyroxine                    0\n",
            "query_on_thyroxine              0\n",
            "on_antithyroid_medication       0\n",
            "thyroid_surgery                 0\n",
            "query_hypothyroid               0\n",
            "query_hyperthyroid              0\n",
            "pregnant                        0\n",
            "sick                            0\n",
            "tumor                           0\n",
            "lithium                         0\n",
            "goitre                          0\n",
            "TSH_measured                    0\n",
            "TSH                           468\n",
            "T3_measured                     0\n",
            "T3                            695\n",
            "TT4_measured                    0\n",
            "TT4                           249\n",
            "T4U_measured                    0\n",
            "T4U                           248\n",
            "FTI_measured                    0\n",
            "FTI                           247\n",
            "TBG_measured                    0\n",
            "TBG                          2903\n",
            "dtype: int64\n"
          ]
        }
      ]
    },
    {
      "cell_type": "code",
      "source": [
        "#Remove TBG column and TBG_measured\n",
        "thyroid_data=thyroid_data.drop(['TBG', 'TBG_measured'], axis=1)\n"
      ],
      "metadata": {
        "id": "k0IwuxLBi4C4"
      },
      "execution_count": null,
      "outputs": []
    },
    {
      "cell_type": "code",
      "source": [
        "print(thyroid_data.isnull().sum())"
      ],
      "metadata": {
        "colab": {
          "base_uri": "https://localhost:8080/"
        },
        "id": "94QcEXVll7b8",
        "outputId": "980f1351-6221-4357-a971-9645fec32b62"
      },
      "execution_count": null,
      "outputs": [
        {
          "output_type": "stream",
          "name": "stdout",
          "text": [
            "Unnamed: 0                     0\n",
            "Age                          446\n",
            "Sex                           73\n",
            "on_thyroxine                   0\n",
            "query_on_thyroxine             0\n",
            "on_antithyroid_medication      0\n",
            "thyroid_surgery                0\n",
            "query_hypothyroid              0\n",
            "query_hyperthyroid             0\n",
            "pregnant                       0\n",
            "sick                           0\n",
            "tumor                          0\n",
            "lithium                        0\n",
            "goitre                         0\n",
            "TSH_measured                   0\n",
            "TSH                          468\n",
            "T3_measured                    0\n",
            "T3                           695\n",
            "TT4_measured                   0\n",
            "TT4                          249\n",
            "T4U_measured                   0\n",
            "T4U                          248\n",
            "FTI_measured                   0\n",
            "FTI                          247\n",
            "dtype: int64\n"
          ]
        }
      ]
    },
    {
      "cell_type": "code",
      "source": [
        "#Drop null values only in columns age and Sex\n",
        "thyroid_data = thyroid_data.dropna(subset=['Age', 'Sex']) #not possible for someone to be age 0"
      ],
      "metadata": {
        "id": "z-Jmxv9eVbQQ"
      },
      "execution_count": null,
      "outputs": []
    },
    {
      "cell_type": "code",
      "source": [
        "#replace null values with 0\n",
        "thyroid_data = thyroid_data.fillna(0)"
      ],
      "metadata": {
        "id": "1F7KigjSWWJQ"
      },
      "execution_count": null,
      "outputs": []
    },
    {
      "cell_type": "code",
      "source": [
        "# Sex should be a int64 variable\n",
        "thyroid_data['Sex'] = thyroid_data['Sex'].replace({'F': 0, 'M': 1})"
      ],
      "metadata": {
        "id": "HrK-ICCqmjIm",
        "colab": {
          "base_uri": "https://localhost:8080/"
        },
        "outputId": "37001074-c231-45e1-ad0a-189f7532b659"
      },
      "execution_count": null,
      "outputs": [
        {
          "output_type": "stream",
          "name": "stderr",
          "text": [
            "<ipython-input-10-eda763ba7112>:2: FutureWarning: Downcasting behavior in `replace` is deprecated and will be removed in a future version. To retain the old behavior, explicitly call `result.infer_objects(copy=False)`. To opt-in to the future behavior, set `pd.set_option('future.no_silent_downcasting', True)`\n",
            "  thyroid_data['Sex'] = thyroid_data['Sex'].replace({'F': 0, 'M': 1})\n"
          ]
        }
      ]
    },
    {
      "cell_type": "code",
      "source": [
        "#convert all 'f' to 0 and 't' to 1\n",
        "thyroid_data= thyroid_data.replace({'f': 0, 't': 1})"
      ],
      "metadata": {
        "colab": {
          "base_uri": "https://localhost:8080/"
        },
        "id": "ZokZqYeZnmqs",
        "outputId": "d2f10f19-4d1d-402c-93fc-ad0e042cfc81"
      },
      "execution_count": null,
      "outputs": [
        {
          "output_type": "stream",
          "name": "stderr",
          "text": [
            "<ipython-input-11-a228ca9168de>:2: FutureWarning: Downcasting behavior in `replace` is deprecated and will be removed in a future version. To retain the old behavior, explicitly call `result.infer_objects(copy=False)`. To opt-in to the future behavior, set `pd.set_option('future.no_silent_downcasting', True)`\n",
            "  thyroid_data= thyroid_data.replace({'f': 0, 't': 1})\n"
          ]
        }
      ]
    },
    {
      "cell_type": "code",
      "source": [
        "#convert all 'y' to 1 and 'n' to 0\n",
        "thyroid_data= thyroid_data.replace({'y': 1, 'n': 0})"
      ],
      "metadata": {
        "colab": {
          "base_uri": "https://localhost:8080/"
        },
        "id": "1EbZHEgTWhGS",
        "outputId": "a3fe3c0b-e203-4f09-b111-45b404ee8ce4"
      },
      "execution_count": null,
      "outputs": [
        {
          "output_type": "stream",
          "name": "stderr",
          "text": [
            "<ipython-input-12-5eba0b966f7e>:2: FutureWarning: Downcasting behavior in `replace` is deprecated and will be removed in a future version. To retain the old behavior, explicitly call `result.infer_objects(copy=False)`. To opt-in to the future behavior, set `pd.set_option('future.no_silent_downcasting', True)`\n",
            "  thyroid_data= thyroid_data.replace({'y': 1, 'n': 0})\n"
          ]
        }
      ]
    },
    {
      "cell_type": "code",
      "source": [
        "#Convert TSH, T3, TT4, T4U, FTI to numerical\n",
        "thyroid_data['T3'] = thyroid_data['T3'].astype(float)\n",
        "thyroid_data['TT4'] = thyroid_data['TT4'].astype(float)\n",
        "thyroid_data['T4U'] = thyroid_data['T4U'].astype(float)\n",
        "thyroid_data['FTI'] = thyroid_data['FTI'].astype(float)\n",
        "thyroid_data['TSH'] = thyroid_data['TSH'].astype(float)\n"
      ],
      "metadata": {
        "id": "KIxyl3ZwWowZ"
      },
      "execution_count": null,
      "outputs": []
    },
    {
      "cell_type": "code",
      "source": [
        "thyroid_data.info()"
      ],
      "metadata": {
        "colab": {
          "base_uri": "https://localhost:8080/"
        },
        "id": "fAbY2pCgkWKW",
        "outputId": "bbd35a55-ecf5-481b-f623-409ee7c217be"
      },
      "execution_count": null,
      "outputs": [
        {
          "output_type": "stream",
          "name": "stdout",
          "text": [
            "<class 'pandas.core.frame.DataFrame'>\n",
            "Index: 2700 entries, 0 to 3162\n",
            "Data columns (total 24 columns):\n",
            " #   Column                     Non-Null Count  Dtype  \n",
            "---  ------                     --------------  -----  \n",
            " 0   Unnamed: 0                 2700 non-null   object \n",
            " 1   Age                        2700 non-null   object \n",
            " 2   Sex                        2700 non-null   int64  \n",
            " 3   on_thyroxine               2700 non-null   int64  \n",
            " 4   query_on_thyroxine         2700 non-null   int64  \n",
            " 5   on_antithyroid_medication  2700 non-null   int64  \n",
            " 6   thyroid_surgery            2700 non-null   int64  \n",
            " 7   query_hypothyroid          2700 non-null   int64  \n",
            " 8   query_hyperthyroid         2700 non-null   int64  \n",
            " 9   pregnant                   2700 non-null   int64  \n",
            " 10  sick                       2700 non-null   int64  \n",
            " 11  tumor                      2700 non-null   int64  \n",
            " 12  lithium                    2700 non-null   int64  \n",
            " 13  goitre                     2700 non-null   int64  \n",
            " 14  TSH_measured               2700 non-null   int64  \n",
            " 15  TSH                        2700 non-null   float64\n",
            " 16  T3_measured                2700 non-null   int64  \n",
            " 17  T3                         2700 non-null   float64\n",
            " 18  TT4_measured               2700 non-null   int64  \n",
            " 19  TT4                        2700 non-null   float64\n",
            " 20  T4U_measured               2700 non-null   int64  \n",
            " 21  T4U                        2700 non-null   float64\n",
            " 22  FTI_measured               2700 non-null   int64  \n",
            " 23  FTI                        2700 non-null   float64\n",
            "dtypes: float64(5), int64(17), object(2)\n",
            "memory usage: 527.3+ KB\n"
          ]
        }
      ]
    },
    {
      "cell_type": "code",
      "source": [
        "#how many unique values are there in Unnamed: 0 column\n",
        "thyroid_data['Unnamed: 0'].value_counts()"
      ],
      "metadata": {
        "colab": {
          "base_uri": "https://localhost:8080/",
          "height": 176
        },
        "id": "UBqFNnreorLK",
        "outputId": "1dd0c6ed-476d-4010-dab6-f03c3cd827e0"
      },
      "execution_count": null,
      "outputs": [
        {
          "output_type": "execute_result",
          "data": {
            "text/plain": [
              "Unnamed: 0\n",
              "negative       2564\n",
              "hypothyroid     136\n",
              "Name: count, dtype: int64"
            ],
            "text/html": [
              "<div>\n",
              "<style scoped>\n",
              "    .dataframe tbody tr th:only-of-type {\n",
              "        vertical-align: middle;\n",
              "    }\n",
              "\n",
              "    .dataframe tbody tr th {\n",
              "        vertical-align: top;\n",
              "    }\n",
              "\n",
              "    .dataframe thead th {\n",
              "        text-align: right;\n",
              "    }\n",
              "</style>\n",
              "<table border=\"1\" class=\"dataframe\">\n",
              "  <thead>\n",
              "    <tr style=\"text-align: right;\">\n",
              "      <th></th>\n",
              "      <th>count</th>\n",
              "    </tr>\n",
              "    <tr>\n",
              "      <th>Unnamed: 0</th>\n",
              "      <th></th>\n",
              "    </tr>\n",
              "  </thead>\n",
              "  <tbody>\n",
              "    <tr>\n",
              "      <th>negative</th>\n",
              "      <td>2564</td>\n",
              "    </tr>\n",
              "    <tr>\n",
              "      <th>hypothyroid</th>\n",
              "      <td>136</td>\n",
              "    </tr>\n",
              "  </tbody>\n",
              "</table>\n",
              "</div><br><label><b>dtype:</b> int64</label>"
            ]
          },
          "metadata": {},
          "execution_count": 15
        }
      ]
    },
    {
      "cell_type": "code",
      "source": [
        "#Convert Unnamed: 0 column into a int64 by classifying hypothyroid as 1 and negative as 0\n",
        "thyroid_data['Unnamed: 0'] = thyroid_data['Unnamed: 0'].apply(lambda x: 1 if x == 'hypothyroid' else 0)"
      ],
      "metadata": {
        "id": "3j0BsOrwpIH1"
      },
      "execution_count": null,
      "outputs": []
    },
    {
      "cell_type": "code",
      "source": [
        "thyroid_data.value_counts('Unnamed: 0')"
      ],
      "metadata": {
        "colab": {
          "base_uri": "https://localhost:8080/",
          "height": 176
        },
        "id": "dgowDGQnqA7L",
        "outputId": "ac6895aa-9530-49d7-cf06-c4c259083840"
      },
      "execution_count": null,
      "outputs": [
        {
          "output_type": "execute_result",
          "data": {
            "text/plain": [
              "Unnamed: 0\n",
              "0    2564\n",
              "1     136\n",
              "Name: count, dtype: int64"
            ],
            "text/html": [
              "<div>\n",
              "<style scoped>\n",
              "    .dataframe tbody tr th:only-of-type {\n",
              "        vertical-align: middle;\n",
              "    }\n",
              "\n",
              "    .dataframe tbody tr th {\n",
              "        vertical-align: top;\n",
              "    }\n",
              "\n",
              "    .dataframe thead th {\n",
              "        text-align: right;\n",
              "    }\n",
              "</style>\n",
              "<table border=\"1\" class=\"dataframe\">\n",
              "  <thead>\n",
              "    <tr style=\"text-align: right;\">\n",
              "      <th></th>\n",
              "      <th>count</th>\n",
              "    </tr>\n",
              "    <tr>\n",
              "      <th>Unnamed: 0</th>\n",
              "      <th></th>\n",
              "    </tr>\n",
              "  </thead>\n",
              "  <tbody>\n",
              "    <tr>\n",
              "      <th>0</th>\n",
              "      <td>2564</td>\n",
              "    </tr>\n",
              "    <tr>\n",
              "      <th>1</th>\n",
              "      <td>136</td>\n",
              "    </tr>\n",
              "  </tbody>\n",
              "</table>\n",
              "</div><br><label><b>dtype:</b> int64</label>"
            ]
          },
          "metadata": {},
          "execution_count": 17
        }
      ]
    },
    {
      "cell_type": "code",
      "source": [
        "#change 'Unnamed: 0' column to be called 'Hypothyroid'\n",
        "thyroid_data = thyroid_data.rename(columns={'Unnamed: 0': 'Hypothyroid'})\n",
        "thyroid_data.columns"
      ],
      "metadata": {
        "colab": {
          "base_uri": "https://localhost:8080/"
        },
        "id": "-2_egVODkmyM",
        "outputId": "62d94534-71cc-4f0f-f91f-643017fa9f31"
      },
      "execution_count": null,
      "outputs": [
        {
          "output_type": "execute_result",
          "data": {
            "text/plain": [
              "Index(['Hypothyroid', 'Age', 'Sex', 'on_thyroxine', 'query_on_thyroxine',\n",
              "       'on_antithyroid_medication', 'thyroid_surgery', 'query_hypothyroid',\n",
              "       'query_hyperthyroid', 'pregnant', 'sick', 'tumor', 'lithium', 'goitre',\n",
              "       'TSH_measured', 'TSH', 'T3_measured', 'T3', 'TT4_measured', 'TT4',\n",
              "       'T4U_measured', 'T4U', 'FTI_measured', 'FTI'],\n",
              "      dtype='object')"
            ]
          },
          "metadata": {},
          "execution_count": 18
        }
      ]
    },
    {
      "cell_type": "code",
      "source": [
        "thyroid_data.value_counts('Hypothyroid')"
      ],
      "metadata": {
        "colab": {
          "base_uri": "https://localhost:8080/",
          "height": 176
        },
        "id": "ijs4-KymqTN-",
        "outputId": "8d26cbf4-9a9d-4e71-9441-ede14fd60a6e"
      },
      "execution_count": null,
      "outputs": [
        {
          "output_type": "execute_result",
          "data": {
            "text/plain": [
              "Hypothyroid\n",
              "0    2564\n",
              "1     136\n",
              "Name: count, dtype: int64"
            ],
            "text/html": [
              "<div>\n",
              "<style scoped>\n",
              "    .dataframe tbody tr th:only-of-type {\n",
              "        vertical-align: middle;\n",
              "    }\n",
              "\n",
              "    .dataframe tbody tr th {\n",
              "        vertical-align: top;\n",
              "    }\n",
              "\n",
              "    .dataframe thead th {\n",
              "        text-align: right;\n",
              "    }\n",
              "</style>\n",
              "<table border=\"1\" class=\"dataframe\">\n",
              "  <thead>\n",
              "    <tr style=\"text-align: right;\">\n",
              "      <th></th>\n",
              "      <th>count</th>\n",
              "    </tr>\n",
              "    <tr>\n",
              "      <th>Hypothyroid</th>\n",
              "      <th></th>\n",
              "    </tr>\n",
              "  </thead>\n",
              "  <tbody>\n",
              "    <tr>\n",
              "      <th>0</th>\n",
              "      <td>2564</td>\n",
              "    </tr>\n",
              "    <tr>\n",
              "      <th>1</th>\n",
              "      <td>136</td>\n",
              "    </tr>\n",
              "  </tbody>\n",
              "</table>\n",
              "</div><br><label><b>dtype:</b> int64</label>"
            ]
          },
          "metadata": {},
          "execution_count": 19
        }
      ]
    },
    {
      "cell_type": "code",
      "source": [
        "thyroid_data.head()"
      ],
      "metadata": {
        "colab": {
          "base_uri": "https://localhost:8080/",
          "height": 253
        },
        "id": "J7HyQ6ZfsrlF",
        "outputId": "87ab4f9d-472a-4419-d4d9-35365cfa3ade"
      },
      "execution_count": null,
      "outputs": [
        {
          "output_type": "execute_result",
          "data": {
            "text/plain": [
              "   Hypothyroid Age  Sex  on_thyroxine  query_on_thyroxine  \\\n",
              "0            1  72    1             0                   0   \n",
              "1            1  15    0             1                   0   \n",
              "2            1  24    1             0                   0   \n",
              "3            1  24    0             0                   0   \n",
              "4            1  77    1             0                   0   \n",
              "\n",
              "   on_antithyroid_medication  thyroid_surgery  query_hypothyroid  \\\n",
              "0                          0                0                  0   \n",
              "1                          0                0                  0   \n",
              "2                          0                0                  0   \n",
              "3                          0                0                  0   \n",
              "4                          0                0                  0   \n",
              "\n",
              "   query_hyperthyroid  pregnant  ...  TSH_measured    TSH  T3_measured   T3  \\\n",
              "0                   0         0  ...             1   30.0            1  0.6   \n",
              "1                   0         0  ...             1  145.0            1  1.7   \n",
              "2                   0         0  ...             1    0.0            1  0.2   \n",
              "3                   0         0  ...             1  430.0            1  0.4   \n",
              "4                   0         0  ...             1    7.3            1  1.2   \n",
              "\n",
              "   TT4_measured   TT4  T4U_measured   T4U  FTI_measured   FTI  \n",
              "0             1  15.0             1  1.48             1  10.0  \n",
              "1             1  19.0             1  1.13             1  17.0  \n",
              "2             1   4.0             1  1.00             1   0.0  \n",
              "3             1   6.0             1  1.04             1   6.0  \n",
              "4             1  57.0             1  1.28             1  44.0  \n",
              "\n",
              "[5 rows x 24 columns]"
            ],
            "text/html": [
              "\n",
              "  <div id=\"df-750f577f-ee5c-4a0b-900f-e65215237dbf\" class=\"colab-df-container\">\n",
              "    <div>\n",
              "<style scoped>\n",
              "    .dataframe tbody tr th:only-of-type {\n",
              "        vertical-align: middle;\n",
              "    }\n",
              "\n",
              "    .dataframe tbody tr th {\n",
              "        vertical-align: top;\n",
              "    }\n",
              "\n",
              "    .dataframe thead th {\n",
              "        text-align: right;\n",
              "    }\n",
              "</style>\n",
              "<table border=\"1\" class=\"dataframe\">\n",
              "  <thead>\n",
              "    <tr style=\"text-align: right;\">\n",
              "      <th></th>\n",
              "      <th>Hypothyroid</th>\n",
              "      <th>Age</th>\n",
              "      <th>Sex</th>\n",
              "      <th>on_thyroxine</th>\n",
              "      <th>query_on_thyroxine</th>\n",
              "      <th>on_antithyroid_medication</th>\n",
              "      <th>thyroid_surgery</th>\n",
              "      <th>query_hypothyroid</th>\n",
              "      <th>query_hyperthyroid</th>\n",
              "      <th>pregnant</th>\n",
              "      <th>...</th>\n",
              "      <th>TSH_measured</th>\n",
              "      <th>TSH</th>\n",
              "      <th>T3_measured</th>\n",
              "      <th>T3</th>\n",
              "      <th>TT4_measured</th>\n",
              "      <th>TT4</th>\n",
              "      <th>T4U_measured</th>\n",
              "      <th>T4U</th>\n",
              "      <th>FTI_measured</th>\n",
              "      <th>FTI</th>\n",
              "    </tr>\n",
              "  </thead>\n",
              "  <tbody>\n",
              "    <tr>\n",
              "      <th>0</th>\n",
              "      <td>1</td>\n",
              "      <td>72</td>\n",
              "      <td>1</td>\n",
              "      <td>0</td>\n",
              "      <td>0</td>\n",
              "      <td>0</td>\n",
              "      <td>0</td>\n",
              "      <td>0</td>\n",
              "      <td>0</td>\n",
              "      <td>0</td>\n",
              "      <td>...</td>\n",
              "      <td>1</td>\n",
              "      <td>30.0</td>\n",
              "      <td>1</td>\n",
              "      <td>0.6</td>\n",
              "      <td>1</td>\n",
              "      <td>15.0</td>\n",
              "      <td>1</td>\n",
              "      <td>1.48</td>\n",
              "      <td>1</td>\n",
              "      <td>10.0</td>\n",
              "    </tr>\n",
              "    <tr>\n",
              "      <th>1</th>\n",
              "      <td>1</td>\n",
              "      <td>15</td>\n",
              "      <td>0</td>\n",
              "      <td>1</td>\n",
              "      <td>0</td>\n",
              "      <td>0</td>\n",
              "      <td>0</td>\n",
              "      <td>0</td>\n",
              "      <td>0</td>\n",
              "      <td>0</td>\n",
              "      <td>...</td>\n",
              "      <td>1</td>\n",
              "      <td>145.0</td>\n",
              "      <td>1</td>\n",
              "      <td>1.7</td>\n",
              "      <td>1</td>\n",
              "      <td>19.0</td>\n",
              "      <td>1</td>\n",
              "      <td>1.13</td>\n",
              "      <td>1</td>\n",
              "      <td>17.0</td>\n",
              "    </tr>\n",
              "    <tr>\n",
              "      <th>2</th>\n",
              "      <td>1</td>\n",
              "      <td>24</td>\n",
              "      <td>1</td>\n",
              "      <td>0</td>\n",
              "      <td>0</td>\n",
              "      <td>0</td>\n",
              "      <td>0</td>\n",
              "      <td>0</td>\n",
              "      <td>0</td>\n",
              "      <td>0</td>\n",
              "      <td>...</td>\n",
              "      <td>1</td>\n",
              "      <td>0.0</td>\n",
              "      <td>1</td>\n",
              "      <td>0.2</td>\n",
              "      <td>1</td>\n",
              "      <td>4.0</td>\n",
              "      <td>1</td>\n",
              "      <td>1.00</td>\n",
              "      <td>1</td>\n",
              "      <td>0.0</td>\n",
              "    </tr>\n",
              "    <tr>\n",
              "      <th>3</th>\n",
              "      <td>1</td>\n",
              "      <td>24</td>\n",
              "      <td>0</td>\n",
              "      <td>0</td>\n",
              "      <td>0</td>\n",
              "      <td>0</td>\n",
              "      <td>0</td>\n",
              "      <td>0</td>\n",
              "      <td>0</td>\n",
              "      <td>0</td>\n",
              "      <td>...</td>\n",
              "      <td>1</td>\n",
              "      <td>430.0</td>\n",
              "      <td>1</td>\n",
              "      <td>0.4</td>\n",
              "      <td>1</td>\n",
              "      <td>6.0</td>\n",
              "      <td>1</td>\n",
              "      <td>1.04</td>\n",
              "      <td>1</td>\n",
              "      <td>6.0</td>\n",
              "    </tr>\n",
              "    <tr>\n",
              "      <th>4</th>\n",
              "      <td>1</td>\n",
              "      <td>77</td>\n",
              "      <td>1</td>\n",
              "      <td>0</td>\n",
              "      <td>0</td>\n",
              "      <td>0</td>\n",
              "      <td>0</td>\n",
              "      <td>0</td>\n",
              "      <td>0</td>\n",
              "      <td>0</td>\n",
              "      <td>...</td>\n",
              "      <td>1</td>\n",
              "      <td>7.3</td>\n",
              "      <td>1</td>\n",
              "      <td>1.2</td>\n",
              "      <td>1</td>\n",
              "      <td>57.0</td>\n",
              "      <td>1</td>\n",
              "      <td>1.28</td>\n",
              "      <td>1</td>\n",
              "      <td>44.0</td>\n",
              "    </tr>\n",
              "  </tbody>\n",
              "</table>\n",
              "<p>5 rows × 24 columns</p>\n",
              "</div>\n",
              "    <div class=\"colab-df-buttons\">\n",
              "\n",
              "  <div class=\"colab-df-container\">\n",
              "    <button class=\"colab-df-convert\" onclick=\"convertToInteractive('df-750f577f-ee5c-4a0b-900f-e65215237dbf')\"\n",
              "            title=\"Convert this dataframe to an interactive table.\"\n",
              "            style=\"display:none;\">\n",
              "\n",
              "  <svg xmlns=\"http://www.w3.org/2000/svg\" height=\"24px\" viewBox=\"0 -960 960 960\">\n",
              "    <path d=\"M120-120v-720h720v720H120Zm60-500h600v-160H180v160Zm220 220h160v-160H400v160Zm0 220h160v-160H400v160ZM180-400h160v-160H180v160Zm440 0h160v-160H620v160ZM180-180h160v-160H180v160Zm440 0h160v-160H620v160Z\"/>\n",
              "  </svg>\n",
              "    </button>\n",
              "\n",
              "  <style>\n",
              "    .colab-df-container {\n",
              "      display:flex;\n",
              "      gap: 12px;\n",
              "    }\n",
              "\n",
              "    .colab-df-convert {\n",
              "      background-color: #E8F0FE;\n",
              "      border: none;\n",
              "      border-radius: 50%;\n",
              "      cursor: pointer;\n",
              "      display: none;\n",
              "      fill: #1967D2;\n",
              "      height: 32px;\n",
              "      padding: 0 0 0 0;\n",
              "      width: 32px;\n",
              "    }\n",
              "\n",
              "    .colab-df-convert:hover {\n",
              "      background-color: #E2EBFA;\n",
              "      box-shadow: 0px 1px 2px rgba(60, 64, 67, 0.3), 0px 1px 3px 1px rgba(60, 64, 67, 0.15);\n",
              "      fill: #174EA6;\n",
              "    }\n",
              "\n",
              "    .colab-df-buttons div {\n",
              "      margin-bottom: 4px;\n",
              "    }\n",
              "\n",
              "    [theme=dark] .colab-df-convert {\n",
              "      background-color: #3B4455;\n",
              "      fill: #D2E3FC;\n",
              "    }\n",
              "\n",
              "    [theme=dark] .colab-df-convert:hover {\n",
              "      background-color: #434B5C;\n",
              "      box-shadow: 0px 1px 3px 1px rgba(0, 0, 0, 0.15);\n",
              "      filter: drop-shadow(0px 1px 2px rgba(0, 0, 0, 0.3));\n",
              "      fill: #FFFFFF;\n",
              "    }\n",
              "  </style>\n",
              "\n",
              "    <script>\n",
              "      const buttonEl =\n",
              "        document.querySelector('#df-750f577f-ee5c-4a0b-900f-e65215237dbf button.colab-df-convert');\n",
              "      buttonEl.style.display =\n",
              "        google.colab.kernel.accessAllowed ? 'block' : 'none';\n",
              "\n",
              "      async function convertToInteractive(key) {\n",
              "        const element = document.querySelector('#df-750f577f-ee5c-4a0b-900f-e65215237dbf');\n",
              "        const dataTable =\n",
              "          await google.colab.kernel.invokeFunction('convertToInteractive',\n",
              "                                                    [key], {});\n",
              "        if (!dataTable) return;\n",
              "\n",
              "        const docLinkHtml = 'Like what you see? Visit the ' +\n",
              "          '<a target=\"_blank\" href=https://colab.research.google.com/notebooks/data_table.ipynb>data table notebook</a>'\n",
              "          + ' to learn more about interactive tables.';\n",
              "        element.innerHTML = '';\n",
              "        dataTable['output_type'] = 'display_data';\n",
              "        await google.colab.output.renderOutput(dataTable, element);\n",
              "        const docLink = document.createElement('div');\n",
              "        docLink.innerHTML = docLinkHtml;\n",
              "        element.appendChild(docLink);\n",
              "      }\n",
              "    </script>\n",
              "  </div>\n",
              "\n",
              "\n",
              "<div id=\"df-805dd8d3-fffc-4dc4-aa8c-51f6af3b0f35\">\n",
              "  <button class=\"colab-df-quickchart\" onclick=\"quickchart('df-805dd8d3-fffc-4dc4-aa8c-51f6af3b0f35')\"\n",
              "            title=\"Suggest charts\"\n",
              "            style=\"display:none;\">\n",
              "\n",
              "<svg xmlns=\"http://www.w3.org/2000/svg\" height=\"24px\"viewBox=\"0 0 24 24\"\n",
              "     width=\"24px\">\n",
              "    <g>\n",
              "        <path d=\"M19 3H5c-1.1 0-2 .9-2 2v14c0 1.1.9 2 2 2h14c1.1 0 2-.9 2-2V5c0-1.1-.9-2-2-2zM9 17H7v-7h2v7zm4 0h-2V7h2v10zm4 0h-2v-4h2v4z\"/>\n",
              "    </g>\n",
              "</svg>\n",
              "  </button>\n",
              "\n",
              "<style>\n",
              "  .colab-df-quickchart {\n",
              "      --bg-color: #E8F0FE;\n",
              "      --fill-color: #1967D2;\n",
              "      --hover-bg-color: #E2EBFA;\n",
              "      --hover-fill-color: #174EA6;\n",
              "      --disabled-fill-color: #AAA;\n",
              "      --disabled-bg-color: #DDD;\n",
              "  }\n",
              "\n",
              "  [theme=dark] .colab-df-quickchart {\n",
              "      --bg-color: #3B4455;\n",
              "      --fill-color: #D2E3FC;\n",
              "      --hover-bg-color: #434B5C;\n",
              "      --hover-fill-color: #FFFFFF;\n",
              "      --disabled-bg-color: #3B4455;\n",
              "      --disabled-fill-color: #666;\n",
              "  }\n",
              "\n",
              "  .colab-df-quickchart {\n",
              "    background-color: var(--bg-color);\n",
              "    border: none;\n",
              "    border-radius: 50%;\n",
              "    cursor: pointer;\n",
              "    display: none;\n",
              "    fill: var(--fill-color);\n",
              "    height: 32px;\n",
              "    padding: 0;\n",
              "    width: 32px;\n",
              "  }\n",
              "\n",
              "  .colab-df-quickchart:hover {\n",
              "    background-color: var(--hover-bg-color);\n",
              "    box-shadow: 0 1px 2px rgba(60, 64, 67, 0.3), 0 1px 3px 1px rgba(60, 64, 67, 0.15);\n",
              "    fill: var(--button-hover-fill-color);\n",
              "  }\n",
              "\n",
              "  .colab-df-quickchart-complete:disabled,\n",
              "  .colab-df-quickchart-complete:disabled:hover {\n",
              "    background-color: var(--disabled-bg-color);\n",
              "    fill: var(--disabled-fill-color);\n",
              "    box-shadow: none;\n",
              "  }\n",
              "\n",
              "  .colab-df-spinner {\n",
              "    border: 2px solid var(--fill-color);\n",
              "    border-color: transparent;\n",
              "    border-bottom-color: var(--fill-color);\n",
              "    animation:\n",
              "      spin 1s steps(1) infinite;\n",
              "  }\n",
              "\n",
              "  @keyframes spin {\n",
              "    0% {\n",
              "      border-color: transparent;\n",
              "      border-bottom-color: var(--fill-color);\n",
              "      border-left-color: var(--fill-color);\n",
              "    }\n",
              "    20% {\n",
              "      border-color: transparent;\n",
              "      border-left-color: var(--fill-color);\n",
              "      border-top-color: var(--fill-color);\n",
              "    }\n",
              "    30% {\n",
              "      border-color: transparent;\n",
              "      border-left-color: var(--fill-color);\n",
              "      border-top-color: var(--fill-color);\n",
              "      border-right-color: var(--fill-color);\n",
              "    }\n",
              "    40% {\n",
              "      border-color: transparent;\n",
              "      border-right-color: var(--fill-color);\n",
              "      border-top-color: var(--fill-color);\n",
              "    }\n",
              "    60% {\n",
              "      border-color: transparent;\n",
              "      border-right-color: var(--fill-color);\n",
              "    }\n",
              "    80% {\n",
              "      border-color: transparent;\n",
              "      border-right-color: var(--fill-color);\n",
              "      border-bottom-color: var(--fill-color);\n",
              "    }\n",
              "    90% {\n",
              "      border-color: transparent;\n",
              "      border-bottom-color: var(--fill-color);\n",
              "    }\n",
              "  }\n",
              "</style>\n",
              "\n",
              "  <script>\n",
              "    async function quickchart(key) {\n",
              "      const quickchartButtonEl =\n",
              "        document.querySelector('#' + key + ' button');\n",
              "      quickchartButtonEl.disabled = true;  // To prevent multiple clicks.\n",
              "      quickchartButtonEl.classList.add('colab-df-spinner');\n",
              "      try {\n",
              "        const charts = await google.colab.kernel.invokeFunction(\n",
              "            'suggestCharts', [key], {});\n",
              "      } catch (error) {\n",
              "        console.error('Error during call to suggestCharts:', error);\n",
              "      }\n",
              "      quickchartButtonEl.classList.remove('colab-df-spinner');\n",
              "      quickchartButtonEl.classList.add('colab-df-quickchart-complete');\n",
              "    }\n",
              "    (() => {\n",
              "      let quickchartButtonEl =\n",
              "        document.querySelector('#df-805dd8d3-fffc-4dc4-aa8c-51f6af3b0f35 button');\n",
              "      quickchartButtonEl.style.display =\n",
              "        google.colab.kernel.accessAllowed ? 'block' : 'none';\n",
              "    })();\n",
              "  </script>\n",
              "</div>\n",
              "\n",
              "    </div>\n",
              "  </div>\n"
            ],
            "application/vnd.google.colaboratory.intrinsic+json": {
              "type": "dataframe",
              "variable_name": "thyroid_data"
            }
          },
          "metadata": {},
          "execution_count": 20
        }
      ]
    },
    {
      "cell_type": "code",
      "source": [
        "from sklearn.linear_model import LogisticRegression\n",
        "from sklearn.model_selection import train_test_split\n",
        "from sklearn.metrics import accuracy_score\n",
        "from imblearn.over_sampling import SMOTE"
      ],
      "metadata": {
        "id": "lxCPk4ltUX5T"
      },
      "execution_count": null,
      "outputs": []
    },
    {
      "cell_type": "code",
      "source": [
        "X = thyroid_data.drop('Hypothyroid', axis=1)\n",
        "y = thyroid_data['Hypothyroid']"
      ],
      "metadata": {
        "id": "W5iSLX9MrG3P"
      },
      "execution_count": null,
      "outputs": []
    },
    {
      "cell_type": "code",
      "source": [
        "#resampling the dataset\n",
        "smote = SMOTE(random_state=None)\n",
        "X_resampled, y_resampled = smote.fit_resample(X, y)\n",
        "#split\n",
        "X_train, X_test, y_train, y_test = train_test_split(X_resampled, y_resampled, test_size=0.3, random_state=None, stratify= y_resampled)"
      ],
      "metadata": {
        "id": "qxFpO4xHVVYk"
      },
      "execution_count": null,
      "outputs": []
    },
    {
      "cell_type": "code",
      "source": [
        "print(X_train)"
      ],
      "metadata": {
        "colab": {
          "base_uri": "https://localhost:8080/"
        },
        "id": "BH2NS94NlnE0",
        "outputId": "132c2ba7-1121-435c-d7cc-17d9791a6f18"
      },
      "execution_count": null,
      "outputs": [
        {
          "output_type": "stream",
          "name": "stdout",
          "text": [
            "            Age  Sex  on_thyroxine  query_on_thyroxine  \\\n",
            "3616  80.035224    0             0                   0   \n",
            "1295       72.0    1             0                   0   \n",
            "231        71.0    0             0                   0   \n",
            "3013  24.320977    0             0                   0   \n",
            "1085       29.0    0             0                   0   \n",
            "...         ...  ...           ...                 ...   \n",
            "770        74.0    0             0                   0   \n",
            "3555  48.621869    0             0                   0   \n",
            "3186  70.206874    0             0                   0   \n",
            "2069       61.0    1             0                   0   \n",
            "2778  71.020399    0             0                   0   \n",
            "\n",
            "      on_antithyroid_medication  thyroid_surgery  query_hypothyroid  \\\n",
            "3616                          0                0                  0   \n",
            "1295                          0                0                  0   \n",
            "231                           0                0                  1   \n",
            "3013                          0                0                  0   \n",
            "1085                          0                0                  0   \n",
            "...                         ...              ...                ...   \n",
            "770                           0                0                  0   \n",
            "3555                          0                0                  0   \n",
            "3186                          0                0                  0   \n",
            "2069                          0                0                  0   \n",
            "2778                          0                0                  0   \n",
            "\n",
            "      query_hyperthyroid  pregnant  sick  ...  TSH_measured         TSH  \\\n",
            "3616                   0         0     0  ...             1   40.028179   \n",
            "1295                   0         0     0  ...             1    0.000000   \n",
            "231                    0         0     0  ...             1    8.700000   \n",
            "3013                   0         0     0  ...             1   71.475358   \n",
            "1085                   0         0     0  ...             0    0.000000   \n",
            "...                  ...       ...   ...  ...           ...         ...   \n",
            "770                    0         0     0  ...             1    2.400000   \n",
            "3555                   0         0     0  ...             1   69.728164   \n",
            "3186                   0         0     0  ...             1  143.512322   \n",
            "2069                   0         0     0  ...             1   25.000000   \n",
            "2778                   0         0     0  ...             1   37.989801   \n",
            "\n",
            "      T3_measured        T3  TT4_measured         TT4  T4U_measured       T4U  \\\n",
            "3616            1  1.553170             1   38.000000             1  0.975387   \n",
            "1295            1  0.300000             1   87.000000             1  0.800000   \n",
            "231             1  1.500000             1  102.000000             1  0.940000   \n",
            "3013            0  1.134257             1   44.941344             1  1.150587   \n",
            "1085            0  0.000000             0    0.000000             0  0.000000   \n",
            "...           ...       ...           ...         ...           ...       ...   \n",
            "770             1  1.900000             1  116.000000             1  1.020000   \n",
            "3555            0  0.183751             1   11.162492             1  1.028406   \n",
            "3186            1  0.348768             1   15.256161             1  0.969754   \n",
            "2069            1  1.000000             1  101.000000             1  0.910000   \n",
            "2778            1  0.403570             1   37.005100             1  0.740918   \n",
            "\n",
            "      FTI_measured         FTI  \n",
            "3616             1   38.985911  \n",
            "1295             1  108.000000  \n",
            "231              1  109.000000  \n",
            "3013             1   39.561710  \n",
            "1085             0    0.000000  \n",
            "...            ...         ...  \n",
            "770              1  114.000000  \n",
            "3555             1   10.540623  \n",
            "3186             1   15.512322  \n",
            "2069             1  107.000000  \n",
            "2778             1   49.954103  \n",
            "\n",
            "[3589 rows x 23 columns]\n"
          ]
        }
      ]
    },
    {
      "cell_type": "code",
      "source": [
        "#how many unique values in y_train\n",
        "y_train.value_counts()"
      ],
      "metadata": {
        "colab": {
          "base_uri": "https://localhost:8080/",
          "height": 176
        },
        "id": "5nqiGCtCngSj",
        "outputId": "1fe69530-3a5b-4711-d77b-4b852b5c81d2"
      },
      "execution_count": null,
      "outputs": [
        {
          "output_type": "execute_result",
          "data": {
            "text/plain": [
              "Hypothyroid\n",
              "0    1795\n",
              "1    1794\n",
              "Name: count, dtype: int64"
            ],
            "text/html": [
              "<div>\n",
              "<style scoped>\n",
              "    .dataframe tbody tr th:only-of-type {\n",
              "        vertical-align: middle;\n",
              "    }\n",
              "\n",
              "    .dataframe tbody tr th {\n",
              "        vertical-align: top;\n",
              "    }\n",
              "\n",
              "    .dataframe thead th {\n",
              "        text-align: right;\n",
              "    }\n",
              "</style>\n",
              "<table border=\"1\" class=\"dataframe\">\n",
              "  <thead>\n",
              "    <tr style=\"text-align: right;\">\n",
              "      <th></th>\n",
              "      <th>count</th>\n",
              "    </tr>\n",
              "    <tr>\n",
              "      <th>Hypothyroid</th>\n",
              "      <th></th>\n",
              "    </tr>\n",
              "  </thead>\n",
              "  <tbody>\n",
              "    <tr>\n",
              "      <th>0</th>\n",
              "      <td>1795</td>\n",
              "    </tr>\n",
              "    <tr>\n",
              "      <th>1</th>\n",
              "      <td>1794</td>\n",
              "    </tr>\n",
              "  </tbody>\n",
              "</table>\n",
              "</div><br><label><b>dtype:</b> int64</label>"
            ]
          },
          "metadata": {},
          "execution_count": 25
        }
      ]
    },
    {
      "cell_type": "code",
      "source": [
        "# Scale the dataset\n",
        "from sklearn.preprocessing import StandardScaler\n",
        "scaler = StandardScaler()\n",
        "X_train_scaled = scaler.fit_transform(X_train)\n",
        "X_test_scaled = scaler.transform(X_test)"
      ],
      "metadata": {
        "id": "rrdZptoXrRDi"
      },
      "execution_count": null,
      "outputs": []
    },
    {
      "cell_type": "markdown",
      "source": [
        "## Logistic Regression"
      ],
      "metadata": {
        "id": "XRVNIpQvr3Vq"
      }
    },
    {
      "cell_type": "code",
      "source": [
        "#before cross validation\n",
        "logreg = LogisticRegression(solver='saga', max_iter=5000)\n",
        "logreg.fit(X_train_scaled, y_train)\n",
        "y_pred_LR = logreg.predict(X_test_scaled)\n",
        "print(accuracy_score(y_test, y_pred_LR))"
      ],
      "metadata": {
        "id": "HxamEcQUnGyN",
        "colab": {
          "base_uri": "https://localhost:8080/"
        },
        "outputId": "7be6e8f5-382f-4d36-9c9a-06ace32310ac"
      },
      "execution_count": null,
      "outputs": [
        {
          "output_type": "stream",
          "name": "stdout",
          "text": [
            "0.9707602339181286\n"
          ]
        }
      ]
    },
    {
      "cell_type": "code",
      "source": [
        "from sklearn.model_selection import StratifiedKFold, cross_val_score\n",
        "skf = StratifiedKFold(n_splits=5, shuffle=True, random_state=None)\n",
        "from sklearn.metrics import confusion_matrix, accuracy_score, precision_score, recall_score, f1_score, roc_auc_score, mean_squared_error\n",
        "import numpy as np\n",
        "\n",
        "metrics = {\"accuracy_LR\": [], \"precision_LR\": [], \"recall_LR\": [], \"f1_score_LR\": [], \"roc_auc_LR\": [],\"MSE_LR\": [], \"sensitivity_LR\":[],\"specificity_LR\":[]}\n",
        "#\n",
        "# repeat logistic regression 20 times\n",
        "for i in range(20):\n",
        "    # split the data into training and testing sets\n",
        "    X_train, X_test, y_train, y_test = train_test_split(X_resampled, y_resampled, test_size=0.3,stratify=y_resampled, random_state=i)\n",
        "    y_train= np.array(y_train)\n",
        "\n",
        "    #scale data\n",
        "    X_train_scaled = scaler.fit_transform(X_train)\n",
        "    X_test_scaled = scaler.transform(X_test)\n",
        "    #logistic regression\n",
        "    logreg = LogisticRegression(solver='saga', max_iter=5000, random_state=i)\n",
        "    # Cross-validation loop\n",
        "    fold_metrics = {\n",
        "        \"accuracy\": [], \"precision\": [], \"recall\": [], \"f1_score\": [], \"roc_auc\": [], \"MSE\": [], \"sensitivity\": [], \"specificity\": []\n",
        "    }\n",
        "\n",
        "    for train_index, test_index in skf.split(X_train_scaled, y_train):\n",
        "        X_train_fold, X_val_fold = X_train_scaled[train_index], X_train_scaled[test_index]\n",
        "        y_train_fold, y_val_fold = y_train[train_index],y_train[test_index]\n",
        "\n",
        "        logreg.fit(X_train_fold, y_train_fold)\n",
        "    #predict\n",
        "        y_pred_LR = logreg.predict(X_val_fold)\n",
        "        y_proba_LR = logreg.predict_proba(X_val_fold)[:, 1]\n",
        "    # Confusion matrix\n",
        "        cm = confusion_matrix(y_val_fold, y_pred_LR)\n",
        "        TN, FP, FN, TP = cm.ravel()\n",
        "        sensitivity = TP / (TP + FN) if (TP + FN) != 0 else 0\n",
        "        specificity = TN / (TN + FP) if (TN + FP) != 0 else 0\n",
        "\n",
        "        fold_metrics[\"accuracy\"].append(accuracy_score(y_val_fold, y_pred_LR))\n",
        "        fold_metrics[\"precision\"].append(precision_score(y_val_fold, y_pred_LR, zero_division=0))\n",
        "        fold_metrics[\"recall\"].append(recall_score(y_val_fold, y_pred_LR))\n",
        "        fold_metrics[\"f1_score\"].append(f1_score(y_val_fold, y_pred_LR))\n",
        "        fold_metrics[\"roc_auc\"].append(roc_auc_score(y_val_fold, y_proba_LR))\n",
        "        fold_metrics[\"MSE\"].append(mean_squared_error(y_val_fold, y_pred_LR))\n",
        "        fold_metrics[\"sensitivity\"].append(sensitivity)\n",
        "        fold_metrics[\"specificity\"].append(specificity)\n",
        "    #metrics\n",
        "    metrics[\"accuracy_LR\"].append(np.mean(fold_metrics[\"accuracy\"]))\n",
        "    metrics[\"precision_LR\"].append(np.mean(fold_metrics[\"precision\"]))\n",
        "    metrics[\"recall_LR\"].append(np.mean(fold_metrics[\"recall\"]))\n",
        "    metrics[\"f1_score_LR\"].append(np.mean(fold_metrics[\"f1_score\"]))\n",
        "    metrics[\"roc_auc_LR\"].append(np.mean(fold_metrics[\"roc_auc\"]))\n",
        "    metrics[\"MSE_LR\"].append(np.mean(fold_metrics[\"MSE\"]))\n",
        "    metrics[\"sensitivity_LR\"].append(np.mean(fold_metrics[\"sensitivity\"]))\n",
        "    metrics[\"specificity_LR\"].append(np.mean(fold_metrics[\"specificity\"]))\n",
        "\n",
        "avg_metrics = {metric: np.mean(scores) for metric, scores in metrics.items()}\n",
        "print(avg_metrics)\n",
        "\n"
      ],
      "metadata": {
        "colab": {
          "base_uri": "https://localhost:8080/"
        },
        "id": "mEA3U9Q5srXv",
        "outputId": "bfc3cbd0-7aa2-45ab-d0d4-f9612c4159b0"
      },
      "execution_count": null,
      "outputs": [
        {
          "output_type": "stream",
          "name": "stdout",
          "text": [
            "{'accuracy_LR': 0.9739191073919107, 'precision_LR': 0.9653314987183172, 'recall_LR': 0.983262398655483, 'f1_score_LR': 0.974168487417395, 'roc_auc_LR': 0.9938788689874107, 'MSE_LR': 0.02608089260808926, 'sensitivity_LR': 0.983262398655483, 'specificity_LR': 0.964586607740309}\n"
          ]
        }
      ]
    },
    {
      "cell_type": "code",
      "source": [
        "from sklearn.metrics import roc_curve\n",
        "#average fpr_LR , tpr_LR and threshold_LR for 20 iterations\n",
        "fpr_LR, tpr_LR, threshold_LR = roc_curve(y_val_fold, y_proba_LR)\n",
        "roc_auc_LR= roc_auc_score(y_val_fold, y_proba_LR)\n",
        "print(roc_auc_LR)\n"
      ],
      "metadata": {
        "id": "ObghC8ZNfriE",
        "colab": {
          "base_uri": "https://localhost:8080/"
        },
        "outputId": "4a680dd7-908f-4a61-b8b6-e49d903b1a28"
      },
      "execution_count": null,
      "outputs": [
        {
          "output_type": "stream",
          "name": "stdout",
          "text": [
            "0.9946857347380215\n"
          ]
        }
      ]
    },
    {
      "cell_type": "markdown",
      "source": [
        "## KNN"
      ],
      "metadata": {
        "id": "QV4KhEIC8wbv"
      }
    },
    {
      "source": [
        "from sklearn.metrics import confusion_matrix\n",
        "from sklearn.neighbors import KNeighborsClassifier\n",
        "import pandas as pd\n",
        "\n",
        "def confusion_table(y_pred, y_true):\n",
        "\n",
        "    cm = confusion_matrix(y_true, y_pred, labels=[0, 1])\n",
        "    return pd.DataFrame(cm, index=[0, 1], columns=[0, 1])\n",
        "\n",
        "for K in range(1, 6):\n",
        "    knn = KNeighborsClassifier(n_neighbors=K)\n",
        "    # Fit the model on the training set\n",
        "    knn.fit(X_train_scaled, y_train)\n",
        "    # Predict on the test set\n",
        "    knn_pred = knn.predict(X_test_scaled)\n",
        "    # Get the confusion matrix\n",
        "    C = confusion_table(knn_pred, y_test)\n",
        "    pred = C.loc[1].sum()  # Total predicted 'Yes' (now represented by 1)\n",
        "    positive_thyroid = C.loc[1, 1]  # True Positives (correctly predicted 'Yes')\n",
        "    accuracy = positive_thyroid / pred if pred > 0 else 0  # Avoid division by zero\n",
        "\n",
        "    # Print the results for each value of K\n",
        "    templ = (\n",
        "        \"K={0:d}: # Predicted to have hypothyroidism: {1:>2}, \"\n",
        "        \"# Correctly predicted hypothyroidism: {2:d}, Accuracy: {3:.1%}\"\n",
        "    )\n",
        "    print(templ.format(K, pred, positive_thyroid, accuracy))"
      ],
      "cell_type": "code",
      "metadata": {
        "colab": {
          "base_uri": "https://localhost:8080/"
        },
        "id": "HW-i_HwzGaHW",
        "outputId": "67b52910-242d-47e0-b7c0-302332f5c5d0"
      },
      "execution_count": null,
      "outputs": [
        {
          "output_type": "stream",
          "name": "stdout",
          "text": [
            "K=1: # Predicted to have hypothyroidism: 770, # Correctly predicted hypothyroidism: 763, Accuracy: 99.1%\n",
            "K=2: # Predicted to have hypothyroidism: 770, # Correctly predicted hypothyroidism: 757, Accuracy: 98.3%\n",
            "K=3: # Predicted to have hypothyroidism: 770, # Correctly predicted hypothyroidism: 763, Accuracy: 99.1%\n",
            "K=4: # Predicted to have hypothyroidism: 770, # Correctly predicted hypothyroidism: 762, Accuracy: 99.0%\n",
            "K=5: # Predicted to have hypothyroidism: 770, # Correctly predicted hypothyroidism: 764, Accuracy: 99.2%\n"
          ]
        }
      ]
    },
    {
      "cell_type": "code",
      "source": [
        "n_neighbors = 3\n",
        "knn = KNeighborsClassifier(n_neighbors=n_neighbors)\n",
        "knn.fit(X_train_scaled, y_train)\n",
        "y_pred_KNN = knn.predict(X_test_scaled)\n",
        "print(accuracy_score(y_test, y_pred_KNN))\n"
      ],
      "metadata": {
        "colab": {
          "base_uri": "https://localhost:8080/"
        },
        "id": "SKvSJYGfKTPN",
        "outputId": "a08b1e25-7693-41c9-955b-7c936e2b9be5"
      },
      "execution_count": null,
      "outputs": [
        {
          "output_type": "stream",
          "name": "stdout",
          "text": [
            "0.98180636777128\n"
          ]
        }
      ]
    },
    {
      "cell_type": "code",
      "source": [
        "metrics_knn = {\n",
        "    \"accuracy_KNN\": [],\n",
        "    \"precision_KNN\": [],\n",
        "    \"recall_KNN\": [],\n",
        "    \"f1_score_KNN\": [],\n",
        "    \"roc_auc_KNN\": [],\n",
        "    \"MSE_KNN\": [],\n",
        "    \"sensitivity_KNN\":[],\"specificity_KNN\":[]\n",
        "}\n",
        "n_neighbors = 3\n",
        "knn = KNeighborsClassifier(n_neighbors=n_neighbors)\n",
        "# Repeat the process 20 times\n",
        "for i in range(20):\n",
        "    # Split the data into training and testing sets\n",
        "    X_train, X_test, y_train, y_test = train_test_split(X_resampled, y_resampled, test_size=0.3, stratify=y_resampled, random_state=i)\n",
        "    y_train= np.array(y_train)\n",
        "    # Scale the data\n",
        "    X_train_scaled = scaler.fit_transform(X_train)\n",
        "    X_test_scaled = scaler.transform(X_test)\n",
        "\n",
        "    fold_metrics = {\n",
        "        \"accuracy\": [], \"precision\": [], \"recall\": [], \"f1_score\": [], \"roc_auc\": [], \"MSE\": [], \"sensitivity\": [], \"specificity\": []\n",
        "    }\n",
        "\n",
        "    for train_index, test_index in skf.split(X_train_scaled, y_train):\n",
        "        X_train_fold, X_val_fold = X_train_scaled[train_index], X_train_scaled[test_index]\n",
        "        y_train_fold, y_val_fold = y_train[train_index], y_train[test_index]\n",
        "\n",
        "    # Train\n",
        "        knn.fit(X_train_fold, y_train_fold)\n",
        "    # Predict\n",
        "        y_pred_KNN = knn.predict(X_val_fold)\n",
        "        y_proba_KNN = knn.predict_proba(X_val_fold)[:, 1]\n",
        "    #confusion mattrix\n",
        "        cm = confusion_matrix(y_val_fold, y_pred_KNN)\n",
        "        TN, FP, FN, TP = cm.ravel()\n",
        "        sensitivity = TP / (TP + FN) if (TP + FN) != 0 else 0\n",
        "        specificity = TN / (TN + FP) if (TN + FP) != 0 else 0\n",
        "    # Collect metrics for the current fold\n",
        "        fold_metrics[\"accuracy\"].append(accuracy_score(y_val_fold, y_pred_KNN))\n",
        "        fold_metrics[\"precision\"].append(precision_score(y_val_fold, y_pred_KNN, zero_division=0))\n",
        "        fold_metrics[\"recall\"].append(recall_score(y_val_fold, y_pred_KNN))\n",
        "        fold_metrics[\"f1_score\"].append(f1_score(y_val_fold, y_pred_KNN))\n",
        "        fold_metrics[\"roc_auc\"].append(roc_auc_score(y_val_fold, y_proba_KNN))\n",
        "        fold_metrics[\"MSE\"].append(mean_squared_error(y_val_fold, y_pred_KNN))\n",
        "        fold_metrics[\"sensitivity\"].append(sensitivity)\n",
        "        fold_metrics[\"specificity\"].append(specificity)\n",
        "\n",
        "    # Metrics\n",
        "    metrics_knn[\"accuracy_KNN\"].append(np.mean(fold_metrics[\"accuracy\"]))\n",
        "    metrics_knn[\"precision_KNN\"].append(np.mean(fold_metrics[\"precision\"]))\n",
        "    metrics_knn[\"recall_KNN\"].append(np.mean(fold_metrics[\"recall\"]))\n",
        "    metrics_knn[\"f1_score_KNN\"].append(np.mean(fold_metrics[\"f1_score\"]))\n",
        "    metrics_knn[\"roc_auc_KNN\"].append(np.mean(fold_metrics[\"roc_auc\"]))\n",
        "    metrics_knn[\"MSE_KNN\"].append(np.mean(fold_metrics[\"MSE\"]))\n",
        "    metrics_knn[\"sensitivity_KNN\"].append(np.mean(fold_metrics[\"sensitivity\"]))\n",
        "    metrics_knn[\"specificity_KNN\"].append(np.mean(fold_metrics[\"specificity\"]))\n",
        "\n",
        "\n",
        "# Calculate average metrics\n",
        "avg_metrics_knn = {metric: np.mean(scores) for metric, scores in metrics_knn.items()}\n",
        "print(avg_metrics_knn)\n"
      ],
      "metadata": {
        "colab": {
          "base_uri": "https://localhost:8080/"
        },
        "id": "28CSKR1FChD5",
        "outputId": "28459634-79f7-41ac-a0e4-ad7bf6932f82"
      },
      "execution_count": null,
      "outputs": [
        {
          "output_type": "stream",
          "name": "stdout",
          "text": [
            "{'accuracy_KNN': 0.9763168844185965, 'precision_KNN': 0.9684041715419258, 'recall_KNN': 0.9848424394267129, 'f1_score_KNN': 0.9765239138163644, 'roc_auc_KNN': 0.9873112827566584, 'MSE_KNN': 0.02368311558140348, 'sensitivity_KNN': 0.9848424394267129, 'specificity_KNN': 0.9677921289740278}\n"
          ]
        }
      ]
    },
    {
      "cell_type": "code",
      "source": [
        "#average fpr_KNN , tpr_KNN and threshold_KNN for 20 iterations\n",
        "fpr_KNN, tpr_KNN, threshold_KNN = roc_curve(y_val_fold, y_proba_KNN)\n",
        "roc_auc_KNN = roc_auc_score(y_val_fold, y_proba_KNN)\n",
        "print(roc_auc_KNN)\n"
      ],
      "metadata": {
        "colab": {
          "base_uri": "https://localhost:8080/"
        },
        "id": "2er4DwtrgfSN",
        "outputId": "85132986-5581-4cce-be0d-dba0e9f84073"
      },
      "execution_count": null,
      "outputs": [
        {
          "output_type": "stream",
          "name": "stdout",
          "text": [
            "0.9821159023357868\n"
          ]
        }
      ]
    },
    {
      "cell_type": "markdown",
      "source": [
        "##Decision Tree"
      ],
      "metadata": {
        "id": "yKmEYPcZ8yTo"
      }
    },
    {
      "cell_type": "code",
      "source": [
        "from sklearn.tree import DecisionTreeClassifier as DTC\n",
        "tree= DTC(criterion='entropy', max_depth=4, random_state= None)\n",
        "tree.fit(X_train_scaled, y_train)"
      ],
      "metadata": {
        "colab": {
          "base_uri": "https://localhost:8080/",
          "height": 80
        },
        "id": "ZPJvM24yI-1N",
        "outputId": "214035fe-8c8c-47cf-9010-ba3384937dab"
      },
      "execution_count": null,
      "outputs": [
        {
          "output_type": "execute_result",
          "data": {
            "text/plain": [
              "DecisionTreeClassifier(criterion='entropy', max_depth=4)"
            ],
            "text/html": [
              "<style>#sk-container-id-1 {\n",
              "  /* Definition of color scheme common for light and dark mode */\n",
              "  --sklearn-color-text: black;\n",
              "  --sklearn-color-line: gray;\n",
              "  /* Definition of color scheme for unfitted estimators */\n",
              "  --sklearn-color-unfitted-level-0: #fff5e6;\n",
              "  --sklearn-color-unfitted-level-1: #f6e4d2;\n",
              "  --sklearn-color-unfitted-level-2: #ffe0b3;\n",
              "  --sklearn-color-unfitted-level-3: chocolate;\n",
              "  /* Definition of color scheme for fitted estimators */\n",
              "  --sklearn-color-fitted-level-0: #f0f8ff;\n",
              "  --sklearn-color-fitted-level-1: #d4ebff;\n",
              "  --sklearn-color-fitted-level-2: #b3dbfd;\n",
              "  --sklearn-color-fitted-level-3: cornflowerblue;\n",
              "\n",
              "  /* Specific color for light theme */\n",
              "  --sklearn-color-text-on-default-background: var(--sg-text-color, var(--theme-code-foreground, var(--jp-content-font-color1, black)));\n",
              "  --sklearn-color-background: var(--sg-background-color, var(--theme-background, var(--jp-layout-color0, white)));\n",
              "  --sklearn-color-border-box: var(--sg-text-color, var(--theme-code-foreground, var(--jp-content-font-color1, black)));\n",
              "  --sklearn-color-icon: #696969;\n",
              "\n",
              "  @media (prefers-color-scheme: dark) {\n",
              "    /* Redefinition of color scheme for dark theme */\n",
              "    --sklearn-color-text-on-default-background: var(--sg-text-color, var(--theme-code-foreground, var(--jp-content-font-color1, white)));\n",
              "    --sklearn-color-background: var(--sg-background-color, var(--theme-background, var(--jp-layout-color0, #111)));\n",
              "    --sklearn-color-border-box: var(--sg-text-color, var(--theme-code-foreground, var(--jp-content-font-color1, white)));\n",
              "    --sklearn-color-icon: #878787;\n",
              "  }\n",
              "}\n",
              "\n",
              "#sk-container-id-1 {\n",
              "  color: var(--sklearn-color-text);\n",
              "}\n",
              "\n",
              "#sk-container-id-1 pre {\n",
              "  padding: 0;\n",
              "}\n",
              "\n",
              "#sk-container-id-1 input.sk-hidden--visually {\n",
              "  border: 0;\n",
              "  clip: rect(1px 1px 1px 1px);\n",
              "  clip: rect(1px, 1px, 1px, 1px);\n",
              "  height: 1px;\n",
              "  margin: -1px;\n",
              "  overflow: hidden;\n",
              "  padding: 0;\n",
              "  position: absolute;\n",
              "  width: 1px;\n",
              "}\n",
              "\n",
              "#sk-container-id-1 div.sk-dashed-wrapped {\n",
              "  border: 1px dashed var(--sklearn-color-line);\n",
              "  margin: 0 0.4em 0.5em 0.4em;\n",
              "  box-sizing: border-box;\n",
              "  padding-bottom: 0.4em;\n",
              "  background-color: var(--sklearn-color-background);\n",
              "}\n",
              "\n",
              "#sk-container-id-1 div.sk-container {\n",
              "  /* jupyter's `normalize.less` sets `[hidden] { display: none; }`\n",
              "     but bootstrap.min.css set `[hidden] { display: none !important; }`\n",
              "     so we also need the `!important` here to be able to override the\n",
              "     default hidden behavior on the sphinx rendered scikit-learn.org.\n",
              "     See: https://github.com/scikit-learn/scikit-learn/issues/21755 */\n",
              "  display: inline-block !important;\n",
              "  position: relative;\n",
              "}\n",
              "\n",
              "#sk-container-id-1 div.sk-text-repr-fallback {\n",
              "  display: none;\n",
              "}\n",
              "\n",
              "div.sk-parallel-item,\n",
              "div.sk-serial,\n",
              "div.sk-item {\n",
              "  /* draw centered vertical line to link estimators */\n",
              "  background-image: linear-gradient(var(--sklearn-color-text-on-default-background), var(--sklearn-color-text-on-default-background));\n",
              "  background-size: 2px 100%;\n",
              "  background-repeat: no-repeat;\n",
              "  background-position: center center;\n",
              "}\n",
              "\n",
              "/* Parallel-specific style estimator block */\n",
              "\n",
              "#sk-container-id-1 div.sk-parallel-item::after {\n",
              "  content: \"\";\n",
              "  width: 100%;\n",
              "  border-bottom: 2px solid var(--sklearn-color-text-on-default-background);\n",
              "  flex-grow: 1;\n",
              "}\n",
              "\n",
              "#sk-container-id-1 div.sk-parallel {\n",
              "  display: flex;\n",
              "  align-items: stretch;\n",
              "  justify-content: center;\n",
              "  background-color: var(--sklearn-color-background);\n",
              "  position: relative;\n",
              "}\n",
              "\n",
              "#sk-container-id-1 div.sk-parallel-item {\n",
              "  display: flex;\n",
              "  flex-direction: column;\n",
              "}\n",
              "\n",
              "#sk-container-id-1 div.sk-parallel-item:first-child::after {\n",
              "  align-self: flex-end;\n",
              "  width: 50%;\n",
              "}\n",
              "\n",
              "#sk-container-id-1 div.sk-parallel-item:last-child::after {\n",
              "  align-self: flex-start;\n",
              "  width: 50%;\n",
              "}\n",
              "\n",
              "#sk-container-id-1 div.sk-parallel-item:only-child::after {\n",
              "  width: 0;\n",
              "}\n",
              "\n",
              "/* Serial-specific style estimator block */\n",
              "\n",
              "#sk-container-id-1 div.sk-serial {\n",
              "  display: flex;\n",
              "  flex-direction: column;\n",
              "  align-items: center;\n",
              "  background-color: var(--sklearn-color-background);\n",
              "  padding-right: 1em;\n",
              "  padding-left: 1em;\n",
              "}\n",
              "\n",
              "\n",
              "/* Toggleable style: style used for estimator/Pipeline/ColumnTransformer box that is\n",
              "clickable and can be expanded/collapsed.\n",
              "- Pipeline and ColumnTransformer use this feature and define the default style\n",
              "- Estimators will overwrite some part of the style using the `sk-estimator` class\n",
              "*/\n",
              "\n",
              "/* Pipeline and ColumnTransformer style (default) */\n",
              "\n",
              "#sk-container-id-1 div.sk-toggleable {\n",
              "  /* Default theme specific background. It is overwritten whether we have a\n",
              "  specific estimator or a Pipeline/ColumnTransformer */\n",
              "  background-color: var(--sklearn-color-background);\n",
              "}\n",
              "\n",
              "/* Toggleable label */\n",
              "#sk-container-id-1 label.sk-toggleable__label {\n",
              "  cursor: pointer;\n",
              "  display: block;\n",
              "  width: 100%;\n",
              "  margin-bottom: 0;\n",
              "  padding: 0.5em;\n",
              "  box-sizing: border-box;\n",
              "  text-align: center;\n",
              "}\n",
              "\n",
              "#sk-container-id-1 label.sk-toggleable__label-arrow:before {\n",
              "  /* Arrow on the left of the label */\n",
              "  content: \"▸\";\n",
              "  float: left;\n",
              "  margin-right: 0.25em;\n",
              "  color: var(--sklearn-color-icon);\n",
              "}\n",
              "\n",
              "#sk-container-id-1 label.sk-toggleable__label-arrow:hover:before {\n",
              "  color: var(--sklearn-color-text);\n",
              "}\n",
              "\n",
              "/* Toggleable content - dropdown */\n",
              "\n",
              "#sk-container-id-1 div.sk-toggleable__content {\n",
              "  max-height: 0;\n",
              "  max-width: 0;\n",
              "  overflow: hidden;\n",
              "  text-align: left;\n",
              "  /* unfitted */\n",
              "  background-color: var(--sklearn-color-unfitted-level-0);\n",
              "}\n",
              "\n",
              "#sk-container-id-1 div.sk-toggleable__content.fitted {\n",
              "  /* fitted */\n",
              "  background-color: var(--sklearn-color-fitted-level-0);\n",
              "}\n",
              "\n",
              "#sk-container-id-1 div.sk-toggleable__content pre {\n",
              "  margin: 0.2em;\n",
              "  border-radius: 0.25em;\n",
              "  color: var(--sklearn-color-text);\n",
              "  /* unfitted */\n",
              "  background-color: var(--sklearn-color-unfitted-level-0);\n",
              "}\n",
              "\n",
              "#sk-container-id-1 div.sk-toggleable__content.fitted pre {\n",
              "  /* unfitted */\n",
              "  background-color: var(--sklearn-color-fitted-level-0);\n",
              "}\n",
              "\n",
              "#sk-container-id-1 input.sk-toggleable__control:checked~div.sk-toggleable__content {\n",
              "  /* Expand drop-down */\n",
              "  max-height: 200px;\n",
              "  max-width: 100%;\n",
              "  overflow: auto;\n",
              "}\n",
              "\n",
              "#sk-container-id-1 input.sk-toggleable__control:checked~label.sk-toggleable__label-arrow:before {\n",
              "  content: \"▾\";\n",
              "}\n",
              "\n",
              "/* Pipeline/ColumnTransformer-specific style */\n",
              "\n",
              "#sk-container-id-1 div.sk-label input.sk-toggleable__control:checked~label.sk-toggleable__label {\n",
              "  color: var(--sklearn-color-text);\n",
              "  background-color: var(--sklearn-color-unfitted-level-2);\n",
              "}\n",
              "\n",
              "#sk-container-id-1 div.sk-label.fitted input.sk-toggleable__control:checked~label.sk-toggleable__label {\n",
              "  background-color: var(--sklearn-color-fitted-level-2);\n",
              "}\n",
              "\n",
              "/* Estimator-specific style */\n",
              "\n",
              "/* Colorize estimator box */\n",
              "#sk-container-id-1 div.sk-estimator input.sk-toggleable__control:checked~label.sk-toggleable__label {\n",
              "  /* unfitted */\n",
              "  background-color: var(--sklearn-color-unfitted-level-2);\n",
              "}\n",
              "\n",
              "#sk-container-id-1 div.sk-estimator.fitted input.sk-toggleable__control:checked~label.sk-toggleable__label {\n",
              "  /* fitted */\n",
              "  background-color: var(--sklearn-color-fitted-level-2);\n",
              "}\n",
              "\n",
              "#sk-container-id-1 div.sk-label label.sk-toggleable__label,\n",
              "#sk-container-id-1 div.sk-label label {\n",
              "  /* The background is the default theme color */\n",
              "  color: var(--sklearn-color-text-on-default-background);\n",
              "}\n",
              "\n",
              "/* On hover, darken the color of the background */\n",
              "#sk-container-id-1 div.sk-label:hover label.sk-toggleable__label {\n",
              "  color: var(--sklearn-color-text);\n",
              "  background-color: var(--sklearn-color-unfitted-level-2);\n",
              "}\n",
              "\n",
              "/* Label box, darken color on hover, fitted */\n",
              "#sk-container-id-1 div.sk-label.fitted:hover label.sk-toggleable__label.fitted {\n",
              "  color: var(--sklearn-color-text);\n",
              "  background-color: var(--sklearn-color-fitted-level-2);\n",
              "}\n",
              "\n",
              "/* Estimator label */\n",
              "\n",
              "#sk-container-id-1 div.sk-label label {\n",
              "  font-family: monospace;\n",
              "  font-weight: bold;\n",
              "  display: inline-block;\n",
              "  line-height: 1.2em;\n",
              "}\n",
              "\n",
              "#sk-container-id-1 div.sk-label-container {\n",
              "  text-align: center;\n",
              "}\n",
              "\n",
              "/* Estimator-specific */\n",
              "#sk-container-id-1 div.sk-estimator {\n",
              "  font-family: monospace;\n",
              "  border: 1px dotted var(--sklearn-color-border-box);\n",
              "  border-radius: 0.25em;\n",
              "  box-sizing: border-box;\n",
              "  margin-bottom: 0.5em;\n",
              "  /* unfitted */\n",
              "  background-color: var(--sklearn-color-unfitted-level-0);\n",
              "}\n",
              "\n",
              "#sk-container-id-1 div.sk-estimator.fitted {\n",
              "  /* fitted */\n",
              "  background-color: var(--sklearn-color-fitted-level-0);\n",
              "}\n",
              "\n",
              "/* on hover */\n",
              "#sk-container-id-1 div.sk-estimator:hover {\n",
              "  /* unfitted */\n",
              "  background-color: var(--sklearn-color-unfitted-level-2);\n",
              "}\n",
              "\n",
              "#sk-container-id-1 div.sk-estimator.fitted:hover {\n",
              "  /* fitted */\n",
              "  background-color: var(--sklearn-color-fitted-level-2);\n",
              "}\n",
              "\n",
              "/* Specification for estimator info (e.g. \"i\" and \"?\") */\n",
              "\n",
              "/* Common style for \"i\" and \"?\" */\n",
              "\n",
              ".sk-estimator-doc-link,\n",
              "a:link.sk-estimator-doc-link,\n",
              "a:visited.sk-estimator-doc-link {\n",
              "  float: right;\n",
              "  font-size: smaller;\n",
              "  line-height: 1em;\n",
              "  font-family: monospace;\n",
              "  background-color: var(--sklearn-color-background);\n",
              "  border-radius: 1em;\n",
              "  height: 1em;\n",
              "  width: 1em;\n",
              "  text-decoration: none !important;\n",
              "  margin-left: 1ex;\n",
              "  /* unfitted */\n",
              "  border: var(--sklearn-color-unfitted-level-1) 1pt solid;\n",
              "  color: var(--sklearn-color-unfitted-level-1);\n",
              "}\n",
              "\n",
              ".sk-estimator-doc-link.fitted,\n",
              "a:link.sk-estimator-doc-link.fitted,\n",
              "a:visited.sk-estimator-doc-link.fitted {\n",
              "  /* fitted */\n",
              "  border: var(--sklearn-color-fitted-level-1) 1pt solid;\n",
              "  color: var(--sklearn-color-fitted-level-1);\n",
              "}\n",
              "\n",
              "/* On hover */\n",
              "div.sk-estimator:hover .sk-estimator-doc-link:hover,\n",
              ".sk-estimator-doc-link:hover,\n",
              "div.sk-label-container:hover .sk-estimator-doc-link:hover,\n",
              ".sk-estimator-doc-link:hover {\n",
              "  /* unfitted */\n",
              "  background-color: var(--sklearn-color-unfitted-level-3);\n",
              "  color: var(--sklearn-color-background);\n",
              "  text-decoration: none;\n",
              "}\n",
              "\n",
              "div.sk-estimator.fitted:hover .sk-estimator-doc-link.fitted:hover,\n",
              ".sk-estimator-doc-link.fitted:hover,\n",
              "div.sk-label-container:hover .sk-estimator-doc-link.fitted:hover,\n",
              ".sk-estimator-doc-link.fitted:hover {\n",
              "  /* fitted */\n",
              "  background-color: var(--sklearn-color-fitted-level-3);\n",
              "  color: var(--sklearn-color-background);\n",
              "  text-decoration: none;\n",
              "}\n",
              "\n",
              "/* Span, style for the box shown on hovering the info icon */\n",
              ".sk-estimator-doc-link span {\n",
              "  display: none;\n",
              "  z-index: 9999;\n",
              "  position: relative;\n",
              "  font-weight: normal;\n",
              "  right: .2ex;\n",
              "  padding: .5ex;\n",
              "  margin: .5ex;\n",
              "  width: min-content;\n",
              "  min-width: 20ex;\n",
              "  max-width: 50ex;\n",
              "  color: var(--sklearn-color-text);\n",
              "  box-shadow: 2pt 2pt 4pt #999;\n",
              "  /* unfitted */\n",
              "  background: var(--sklearn-color-unfitted-level-0);\n",
              "  border: .5pt solid var(--sklearn-color-unfitted-level-3);\n",
              "}\n",
              "\n",
              ".sk-estimator-doc-link.fitted span {\n",
              "  /* fitted */\n",
              "  background: var(--sklearn-color-fitted-level-0);\n",
              "  border: var(--sklearn-color-fitted-level-3);\n",
              "}\n",
              "\n",
              ".sk-estimator-doc-link:hover span {\n",
              "  display: block;\n",
              "}\n",
              "\n",
              "/* \"?\"-specific style due to the `<a>` HTML tag */\n",
              "\n",
              "#sk-container-id-1 a.estimator_doc_link {\n",
              "  float: right;\n",
              "  font-size: 1rem;\n",
              "  line-height: 1em;\n",
              "  font-family: monospace;\n",
              "  background-color: var(--sklearn-color-background);\n",
              "  border-radius: 1rem;\n",
              "  height: 1rem;\n",
              "  width: 1rem;\n",
              "  text-decoration: none;\n",
              "  /* unfitted */\n",
              "  color: var(--sklearn-color-unfitted-level-1);\n",
              "  border: var(--sklearn-color-unfitted-level-1) 1pt solid;\n",
              "}\n",
              "\n",
              "#sk-container-id-1 a.estimator_doc_link.fitted {\n",
              "  /* fitted */\n",
              "  border: var(--sklearn-color-fitted-level-1) 1pt solid;\n",
              "  color: var(--sklearn-color-fitted-level-1);\n",
              "}\n",
              "\n",
              "/* On hover */\n",
              "#sk-container-id-1 a.estimator_doc_link:hover {\n",
              "  /* unfitted */\n",
              "  background-color: var(--sklearn-color-unfitted-level-3);\n",
              "  color: var(--sklearn-color-background);\n",
              "  text-decoration: none;\n",
              "}\n",
              "\n",
              "#sk-container-id-1 a.estimator_doc_link.fitted:hover {\n",
              "  /* fitted */\n",
              "  background-color: var(--sklearn-color-fitted-level-3);\n",
              "}\n",
              "</style><div id=\"sk-container-id-1\" class=\"sk-top-container\"><div class=\"sk-text-repr-fallback\"><pre>DecisionTreeClassifier(criterion=&#x27;entropy&#x27;, max_depth=4)</pre><b>In a Jupyter environment, please rerun this cell to show the HTML representation or trust the notebook. <br />On GitHub, the HTML representation is unable to render, please try loading this page with nbviewer.org.</b></div><div class=\"sk-container\" hidden><div class=\"sk-item\"><div class=\"sk-estimator fitted sk-toggleable\"><input class=\"sk-toggleable__control sk-hidden--visually\" id=\"sk-estimator-id-1\" type=\"checkbox\" checked><label for=\"sk-estimator-id-1\" class=\"sk-toggleable__label fitted sk-toggleable__label-arrow fitted\">&nbsp;&nbsp;DecisionTreeClassifier<a class=\"sk-estimator-doc-link fitted\" rel=\"noreferrer\" target=\"_blank\" href=\"https://scikit-learn.org/1.5/modules/generated/sklearn.tree.DecisionTreeClassifier.html\">?<span>Documentation for DecisionTreeClassifier</span></a><span class=\"sk-estimator-doc-link fitted\">i<span>Fitted</span></span></label><div class=\"sk-toggleable__content fitted\"><pre>DecisionTreeClassifier(criterion=&#x27;entropy&#x27;, max_depth=4)</pre></div> </div></div></div></div>"
            ]
          },
          "metadata": {},
          "execution_count": 40
        }
      ]
    },
    {
      "cell_type": "code",
      "source": [
        "accuracy_score(y_test, tree.predict(X_test_scaled))"
      ],
      "metadata": {
        "colab": {
          "base_uri": "https://localhost:8080/"
        },
        "id": "NdhY5_kOJWQx",
        "outputId": "9dd390b0-59cc-4a59-f87d-f22d35e64ed3"
      },
      "execution_count": null,
      "outputs": [
        {
          "output_type": "execute_result",
          "data": {
            "text/plain": [
              "0.9831059129304743"
            ]
          },
          "metadata": {},
          "execution_count": 41
        }
      ]
    },
    {
      "cell_type": "code",
      "source": [
        "from sklearn.metrics import log_loss\n",
        "resid_dev= np.sum(log_loss(y_test, tree.predict_proba(X_test_scaled)))\n",
        "print(resid_dev)"
      ],
      "metadata": {
        "colab": {
          "base_uri": "https://localhost:8080/"
        },
        "id": "ZSs47IhcJafw",
        "outputId": "489910f5-a431-4c52-963b-ce91cc25236c"
      },
      "execution_count": null,
      "outputs": [
        {
          "output_type": "stream",
          "name": "stdout",
          "text": [
            "0.03150786071783802\n"
          ]
        }
      ]
    },
    {
      "source": [
        "import matplotlib.pyplot as plt\n",
        "from sklearn.tree import plot_tree\n",
        "fig, ax = plt.subplots(figsize=(12, 12))\n",
        "plot_tree(tree, ax=ax, feature_names=X.columns, filled=True)\n",
        "plt.show()"
      ],
      "cell_type": "code",
      "metadata": {
        "colab": {
          "base_uri": "https://localhost:8080/",
          "height": 790
        },
        "id": "UQ41y4f_KJad",
        "outputId": "cf12c9f4-0c10-49b2-cf5c-9f3299f13294"
      },
      "execution_count": null,
      "outputs": [
        {
          "output_type": "display_data",
          "data": {
            "text/plain": [
              "<Figure size 1200x1200 with 1 Axes>"
            ],
            "image/png": "[encoded data removed]"
          },
          "metadata": {}
        }
      ]
    },
    {
      "cell_type": "code",
      "source": [
        "tree2= DTC(criterion='entropy', max_depth=4,random_state=0)\n",
        "tree2.fit(X_train_scaled, y_train)\n",
        "accuracy_score(y_test, tree2.predict(X_test_scaled))"
      ],
      "metadata": {
        "colab": {
          "base_uri": "https://localhost:8080/"
        },
        "id": "k4ZEnJXvKc5U",
        "outputId": "b4e27604-5674-4e53-f176-4e6f58e50c6a"
      },
      "execution_count": null,
      "outputs": [
        {
          "output_type": "execute_result",
          "data": {
            "text/plain": [
              "0.9831059129304743"
            ]
          },
          "metadata": {},
          "execution_count": 44
        }
      ]
    },
    {
      "cell_type": "code",
      "source": [
        "from sklearn.model_selection import KFold\n",
        "ccp_path= tree2.cost_complexity_pruning_path(X_train_scaled, y_train)\n",
        "kfold= KFold(10, random_state=1, shuffle= True)\n"
      ],
      "metadata": {
        "id": "rpnQESQqKngP"
      },
      "execution_count": null,
      "outputs": []
    },
    {
      "cell_type": "code",
      "source": [
        "from sklearn.model_selection import GridSearchCV\n",
        "grid= GridSearchCV(tree2, {'ccp_alpha': ccp_path['ccp_alphas']},\n",
        "                  cv=kfold, scoring='accuracy',\n",
        "                  refit=True)\n",
        "grid.fit(X_train_scaled, y_train)\n",
        "grid.best_score_"
      ],
      "metadata": {
        "colab": {
          "base_uri": "https://localhost:8080/"
        },
        "id": "p6vIy0FTLIu3",
        "outputId": "33e1db18-d743-4c7b-9e98-db706ba56d95"
      },
      "execution_count": null,
      "outputs": [
        {
          "output_type": "execute_result",
          "data": {
            "text/plain": [
              "0.9768732201490795"
            ]
          },
          "metadata": {},
          "execution_count": 46
        }
      ]
    },
    {
      "cell_type": "code",
      "source": [
        "ax2= plt.subplots(figsize=(12, 12))[1]\n",
        "best_tree = grid.best_estimator_\n",
        "plot_tree(best_tree, feature_names=X.columns, ax=ax2)\n",
        "plt.show()"
      ],
      "metadata": {
        "colab": {
          "base_uri": "https://localhost:8080/",
          "height": 790
        },
        "id": "Yv9vviE0yDQv",
        "outputId": "ad9f4c0d-2c69-4596-dffd-4ca39192e5c3"
      },
      "execution_count": null,
      "outputs": [
        {
          "output_type": "display_data",
          "data": {
            "text/plain": [
              "<Figure size 1200x1200 with 1 Axes>"
            ],
            "image/png": "[encoded data removed]"
          },
          "metadata": {}
        }
      ]
    },
    {
      "cell_type": "code",
      "source": [
        "fig, ax= plt.subplots(figsize=(12, 12))\n",
        "plot_tree(tree2, ax=ax, feature_names=X.columns, filled = True)\n",
        "plt.show()"
      ],
      "metadata": {
        "colab": {
          "base_uri": "https://localhost:8080/",
          "height": 790
        },
        "id": "rsr_tNxdLteu",
        "outputId": "fcd5c1d7-46be-4734-ab93-d88f69d4728d"
      },
      "execution_count": null,
      "outputs": [
        {
          "output_type": "display_data",
          "data": {
            "text/plain": [
              "<Figure size 1200x1200 with 1 Axes>"
            ],
            "image/png": "[encoded data removed]"
          },
          "metadata": {}
        }
      ]
    },
    {
      "cell_type": "code",
      "source": [
        "resid_dev2= np.sum(log_loss(y_test, best_tree.predict_proba(X_test_scaled)))\n",
        "print(resid_dev2)"
      ],
      "metadata": {
        "id": "jlNZJCXXvx09",
        "colab": {
          "base_uri": "https://localhost:8080/"
        },
        "outputId": "3f06d6e7-cc44-4a3a-d63c-7e04f64f2fc7"
      },
      "execution_count": null,
      "outputs": [
        {
          "output_type": "stream",
          "name": "stdout",
          "text": [
            "0.03150786071783802\n"
          ]
        }
      ]
    },
    {
      "cell_type": "code",
      "source": [
        "tree.fit(X_train_scaled, y_train)\n",
        "y_pred_tree = tree.predict(X_test_scaled)\n",
        "print(accuracy_score(y_test, y_pred_tree))"
      ],
      "metadata": {
        "colab": {
          "base_uri": "https://localhost:8080/"
        },
        "id": "rzk3qnouLi_J",
        "outputId": "45c6cfbd-57f7-4822-a0cb-f1c833f3b6a7"
      },
      "execution_count": null,
      "outputs": [
        {
          "output_type": "stream",
          "name": "stdout",
          "text": [
            "0.9831059129304743\n"
          ]
        }
      ]
    },
    {
      "cell_type": "code",
      "source": [
        "#Do model tree 20 times\n",
        "metrics_tree = {\n",
        "    \"accuracy_tree\": [],\n",
        "    \"precision_tree\": [],\n",
        "    \"recall_tree\": [],\n",
        "    \"f1_score_tree\": [],\n",
        "    \"roc_auc_tree\": [],\n",
        "    \"MSE_tree\": [],\n",
        "    \"sensitivity_tree\":[],\"specificity_tree\":[]\n",
        "}\n",
        "for i in range(20):\n",
        "    X_train, X_test, y_train, y_test = train_test_split(X_resampled, y_resampled, test_size=0.3, stratify=y_resampled, random_state=i)\n",
        "    # Scale the data\n",
        "    X_train_scaled = scaler.fit_transform(X_train)\n",
        "    X_test_scaled = scaler.transform(X_test)\n",
        "    y_train= np.array(y_train)\n",
        "\n",
        "    fold_metrics = {\n",
        "        \"accuracy\": [], \"precision\": [], \"recall\": [], \"f1_score\": [], \"roc_auc\": [], \"MSE\": [], \"sensitivity\": [], \"specificity\": []\n",
        "    }\n",
        "\n",
        "    for train_index, test_index in skf.split(X_train_scaled, y_train):\n",
        "        X_train_fold, X_val_fold = X_train_scaled[train_index], X_train_scaled[test_index]\n",
        "        y_train_fold, y_val_fold = y_train[train_index], y_train[test_index]\n",
        "        # Train\n",
        "        tree.fit(X_train_fold, y_train_fold)\n",
        "    # Predict\n",
        "        y_pred_tree = tree.predict(X_val_fold)\n",
        "        y_proba_tree = tree.predict_proba(X_val_fold)[:, 1]\n",
        "    # confusion matrix\n",
        "        cm = confusion_matrix(y_val_fold, y_pred_tree)\n",
        "        TN, FP, FN, TP = cm.ravel()\n",
        "        sensitivity = TP / (TP + FN) if (TP + FN) != 0 else 0\n",
        "        specificity = TN / (TN + FP) if (TN + FP) != 0 else 0\n",
        "         # Collect metrics for the current fold\n",
        "        fold_metrics[\"accuracy\"].append(accuracy_score(y_val_fold, y_pred_tree))\n",
        "        fold_metrics[\"precision\"].append(precision_score(y_val_fold, y_pred_tree, zero_division=0))\n",
        "        fold_metrics[\"recall\"].append(recall_score(y_val_fold, y_pred_tree))\n",
        "        fold_metrics[\"f1_score\"].append(f1_score(y_val_fold, y_pred_tree))\n",
        "        fold_metrics[\"roc_auc\"].append(roc_auc_score(y_val_fold, y_proba_tree))\n",
        "        fold_metrics[\"MSE\"].append(mean_squared_error(y_val_fold, y_pred_tree))\n",
        "        fold_metrics[\"sensitivity\"].append(sensitivity)\n",
        "        fold_metrics[\"specificity\"].append(specificity)\n",
        "\n",
        "\n",
        "    metrics_tree[\"accuracy_tree\"].append(np.mean(fold_metrics[\"accuracy\"]))\n",
        "    metrics_tree[\"precision_tree\"].append(np.mean(fold_metrics[\"precision\"]))\n",
        "    metrics_tree[\"recall_tree\"].append(np.mean(fold_metrics[\"recall\"]))\n",
        "    metrics_tree[\"f1_score_tree\"].append(np.mean(fold_metrics[\"f1_score\"]))\n",
        "    metrics_tree[\"roc_auc_tree\"].append(np.mean(fold_metrics[\"roc_auc\"]))\n",
        "    metrics_tree[\"MSE_tree\"].append(np.mean(fold_metrics[\"MSE\"]))\n",
        "    metrics_tree[\"sensitivity_tree\"].append(np.mean(fold_metrics[\"sensitivity\"]))\n",
        "    metrics_tree[\"specificity_tree\"].append(np.mean(fold_metrics[\"specificity\"]))\n",
        "\n",
        "# Calculate average metrics\n",
        "avg_metrics_tree = {metric: np.mean(scores) for metric, scores in metrics_tree.items()}\n",
        "print(avg_metrics_tree)"
      ],
      "metadata": {
        "colab": {
          "base_uri": "https://localhost:8080/"
        },
        "id": "YnWLz-VXMfLa",
        "outputId": "ac7f861e-42b2-48a8-fc11-3576c98ab799"
      },
      "execution_count": null,
      "outputs": [
        {
          "output_type": "stream",
          "name": "stdout",
          "text": [
            "{'accuracy_tree': 0.9805237118448501, 'precision_tree': 0.976919979384858, 'recall_tree': 0.9844509889357462, 'f1_score_tree': 0.980595468619111, 'roc_auc_tree': 0.9931841200008723, 'MSE_tree': 0.019476288155149707, 'sensitivity_tree': 0.9844509889357462, 'specificity_tree': 0.9765966916169994}\n"
          ]
        }
      ]
    },
    {
      "cell_type": "code",
      "source": [
        "#average fpr_tree , tpr_tree and threshold_tree for 20 iterations\n",
        "fpr_tree, tpr_tree, threshold_tree = roc_curve(y_val_fold, y_proba_tree)\n",
        "roc_auc_tree = roc_auc_score(y_val_fold, y_proba_tree)\n",
        "print(roc_auc_tree)"
      ],
      "metadata": {
        "id": "tMKPGK3hgskz",
        "colab": {
          "base_uri": "https://localhost:8080/"
        },
        "outputId": "6a4425a6-9bb2-4583-e06a-ecac4c231b17"
      },
      "execution_count": null,
      "outputs": [
        {
          "output_type": "stream",
          "name": "stdout",
          "text": [
            "0.9899472463858328\n"
          ]
        }
      ]
    },
    {
      "cell_type": "markdown",
      "source": [
        "## Naive Bayes"
      ],
      "metadata": {
        "id": "zAKL-ui6803V"
      }
    },
    {
      "cell_type": "code",
      "source": [
        "#X does not need to be scaled, Naive Bayes already assumes features are normally distributed"
      ],
      "metadata": {
        "id": "0IQq2L84z1Jq"
      },
      "execution_count": null,
      "outputs": []
    },
    {
      "cell_type": "code",
      "source": [
        "from sklearn.model_selection import GridSearchCV\n",
        "from sklearn.naive_bayes import GaussianNB\n",
        "param_grid = {'var_smoothing': np.logspace(-12, -7, 6)}\n",
        "grid_search = GridSearchCV(GaussianNB(), param_grid, scoring='roc_auc', cv=5)\n",
        "grid_search.fit(X_resampled, y_resampled)\n",
        "best_smoothing = grid_search.best_params_['var_smoothing']\n",
        "nb = GaussianNB(var_smoothing=best_smoothing)"
      ],
      "metadata": {
        "id": "93yHlGDL0ORI"
      },
      "execution_count": null,
      "outputs": []
    },
    {
      "cell_type": "code",
      "source": [
        "nb = GaussianNB(var_smoothing=best_smoothing)\n",
        "nb.fit(X_train, y_train)\n",
        "y_pred_nb = nb.predict(X_test)\n",
        "print(accuracy_score(y_test, y_pred_nb))"
      ],
      "metadata": {
        "colab": {
          "base_uri": "https://localhost:8080/"
        },
        "id": "GTgKWT1SNOvQ",
        "outputId": "3e15ad0a-ecbf-478c-acf8-f73795f42a56"
      },
      "execution_count": null,
      "outputs": [
        {
          "output_type": "stream",
          "name": "stdout",
          "text": [
            "0.7355425601039636\n"
          ]
        }
      ]
    },
    {
      "cell_type": "code",
      "source": [
        "from sklearn.model_selection import StratifiedKFold, train_test_split\n",
        "from sklearn.naive_bayes import GaussianNB\n",
        "from sklearn.metrics import accuracy_score, precision_score, recall_score, f1_score, roc_auc_score, mean_squared_error, confusion_matrix\n",
        "import numpy as np\n",
        "from sklearn.preprocessing import StandardScaler\n",
        "\n",
        "# Define metrics dictionary\n",
        "metrics_nb = {\n",
        "    \"accuracy_nb\": [],\n",
        "    \"precision_nb\": [],\n",
        "    \"recall_nb\": [],\n",
        "    \"f1_score_nb\": [],\n",
        "    \"roc_auc_nb\": [],\n",
        "    \"MSE_nb\": [],\n",
        "    \"sensitivity_nb\": [],\n",
        "    \"specificity_nb\": []\n",
        "}\n",
        "\n",
        "# Initialize Naive Bayes model\n",
        "nb = GaussianNB(var_smoothing=best_smoothing)\n",
        "scaler = StandardScaler()\n",
        "\n",
        "# Stratified K-fold cross-validation\n",
        "skf = StratifiedKFold(n_splits=5, shuffle=True, random_state=42)\n",
        "\n",
        "# Repeat 20 times\n",
        "for i in range(20):\n",
        "    # Split the data\n",
        "    X_train, X_test, y_train, y_test = train_test_split(X_resampled, y_resampled, test_size=0.2, stratify=y_resampled, random_state=i)\n",
        "    y_train = np.array(y_train)\n",
        "\n",
        "    # Scale the data\n",
        "    X_train_scaled = scaler.fit_transform(X_train)\n",
        "    X_test_scaled = scaler.transform(X_test)\n",
        "\n",
        "    fold_metrics = {\n",
        "        \"accuracy\": [], \"precision\": [], \"recall\": [], \"f1_score\": [], \"roc_auc\": [], \"MSE\": [], \"sensitivity\": [], \"specificity\": []\n",
        "    }\n",
        "\n",
        "    # Cross-validation loop\n",
        "    for train_index, test_index in skf.split(X_train_scaled, y_train):\n",
        "        X_train_fold, X_val_fold = X_train_scaled[train_index], X_train_scaled[test_index]\n",
        "        y_train_fold, y_val_fold = y_train[train_index], y_train[test_index]\n",
        "\n",
        "        # Train Naive Bayes\n",
        "        nb.fit(X_train_fold, y_train_fold)\n",
        "        y_pred_nb = nb.predict(X_val_fold)\n",
        "        y_proba_nb = nb.predict_proba(X_val_fold)[:, 1]\n",
        "\n",
        "        # Confusion matrix\n",
        "        cm = confusion_matrix(y_val_fold, y_pred_nb)\n",
        "        if cm.shape == (2, 2):  # Only proceed if it's a 2x2 matrix\n",
        "            TN, FP, FN, TP = cm.ravel()\n",
        "            sensitivity = TP / (TP + FN) if (TP + FN) != 0 else 0\n",
        "            specificity = TN / (TN + FP) if (TN + FP) != 0 else 0\n",
        "        else:\n",
        "            TN, FP, FN, TP = 0, 0, 0, 0  # Handle cases where the model doesn't predict both classes\n",
        "            sensitivity = 0\n",
        "            specificity = 0\n",
        "\n",
        "        # Collect fold metrics\n",
        "        fold_metrics[\"accuracy\"].append(accuracy_score(y_val_fold, y_pred_nb))\n",
        "        fold_metrics[\"precision\"].append(precision_score(y_val_fold, y_pred_nb, zero_division=0))\n",
        "        fold_metrics[\"recall\"].append(recall_score(y_val_fold, y_pred_nb))\n",
        "        fold_metrics[\"f1_score\"].append(f1_score(y_val_fold, y_pred_nb))\n",
        "        fold_metrics[\"roc_auc\"].append(roc_auc_score(y_val_fold, y_proba_nb))\n",
        "        fold_metrics[\"MSE\"].append(mean_squared_error(y_val_fold, y_pred_nb))\n",
        "        fold_metrics[\"sensitivity\"].append(sensitivity)\n",
        "        fold_metrics[\"specificity\"].append(specificity)\n",
        "\n",
        "    # Collect average metrics across folds\n",
        "    metrics_nb[\"accuracy_nb\"].append(np.mean(fold_metrics[\"accuracy\"]))\n",
        "    metrics_nb[\"precision_nb\"].append(np.mean(fold_metrics[\"precision\"]))\n",
        "    metrics_nb[\"recall_nb\"].append(np.mean(fold_metrics[\"recall\"]))\n",
        "    metrics_nb[\"f1_score_nb\"].append(np.mean(fold_metrics[\"f1_score\"]))\n",
        "    metrics_nb[\"roc_auc_nb\"].append(np.mean(fold_metrics[\"roc_auc\"]))\n",
        "    metrics_nb[\"MSE_nb\"].append(np.mean(fold_metrics[\"MSE\"]))\n",
        "    metrics_nb[\"sensitivity_nb\"].append(np.mean(fold_metrics[\"sensitivity\"]))\n",
        "    metrics_nb[\"specificity_nb\"].append(np.mean(fold_metrics[\"specificity\"]))\n",
        "\n",
        "# Calculate and print the average metrics across 20 iterations\n",
        "avg_metrics_nb = {metric: np.mean(scores) for metric, scores in metrics_nb.items()}\n",
        "print(avg_metrics_nb)"
      ],
      "metadata": {
        "colab": {
          "base_uri": "https://localhost:8080/"
        },
        "id": "XJM6kc3UQlU-",
        "outputId": "8290a8da-e26b-41c0-9762-4d308b867186"
      },
      "execution_count": null,
      "outputs": [
        {
          "output_type": "stream",
          "name": "stdout",
          "text": [
            "{'accuracy_nb': 0.6434065238703542, 'precision_nb': 0.5845163935851356, 'recall_nb': 0.9936619191739364, 'f1_score_nb': 0.7359961965535531, 'roc_auc_nb': 0.732105194886024, 'MSE_nb': 0.3565934761296456, 'sensitivity_nb': 0.9936619191739364, 'specificity_nb': 0.2931545902320337}\n"
          ]
        }
      ]
    },
    {
      "cell_type": "code",
      "source": [
        "#average fpr_nb , tpr_nb and threshold_nb for 20 iterations\n",
        "fpr_nb, tpr_nb, threshold_nb = roc_curve(y_val_fold, y_proba_nb)\n",
        "roc_auc_nb = roc_auc_score(y_val_fold, y_proba_nb)\n",
        "print(roc_auc_nb)"
      ],
      "metadata": {
        "id": "ifegWr_ChL53",
        "colab": {
          "base_uri": "https://localhost:8080/"
        },
        "outputId": "278f4ae2-248e-4b49-a50a-dd6b19d54270"
      },
      "execution_count": null,
      "outputs": [
        {
          "output_type": "stream",
          "name": "stdout",
          "text": [
            "0.7380011897679952\n"
          ]
        }
      ]
    },
    {
      "cell_type": "markdown",
      "source": [
        "## LDA"
      ],
      "metadata": {
        "id": "dPW_S8CY83JN"
      }
    },
    {
      "cell_type": "code",
      "source": [
        "from sklearn.discriminant_analysis import LinearDiscriminantAnalysis\n",
        "lda = LinearDiscriminantAnalysis()\n",
        "lda.fit(X_train_scaled, y_train)\n",
        "y_pred_lda = lda.predict(X_test_scaled)\n",
        "print(accuracy_score(y_test, y_pred_lda))"
      ],
      "metadata": {
        "colab": {
          "base_uri": "https://localhost:8080/"
        },
        "id": "UcU4Y3DyOB2s",
        "outputId": "b9e1727a-eb20-4143-e01d-68dea0efd3c1"
      },
      "execution_count": null,
      "outputs": [
        {
          "output_type": "stream",
          "name": "stdout",
          "text": [
            "0.958414554905783\n"
          ]
        }
      ]
    },
    {
      "cell_type": "code",
      "source": [
        "#do the same for LDA\n",
        "metrics_lda = {\n",
        "    \"accuracy_lda\": [],\n",
        "    \"precision_lda\": [],\n",
        "    \"recall_lda\": [],\n",
        "    \"f1_score_lda\": [],\n",
        "    \"roc_auc_lda\": [],\n",
        "    \"MSE_lda\": [],\n",
        "    \"sensitivity_lda\":[],\"specificity_lda\":[]\n",
        "}\n",
        "lda = LinearDiscriminantAnalysis()\n",
        "for i in range(20):\n",
        "    X_train, X_test, y_train, y_test = train_test_split(X_resampled, y_resampled, test_size=0.3, stratify=y_resampled, random_state=i)\n",
        "    y_train= np.array(y_train)\n",
        "    X_train_scaled = scaler.fit_transform(X_train)\n",
        "    X_test_scaled = scaler.transform(X_test)\n",
        "    fold_metrics = {\n",
        "        \"accuracy\": [], \"precision\": [], \"recall\": [], \"f1_score\": [], \"roc_auc\": [], \"MSE\": [], \"sensitivity\": [], \"specificity\": []\n",
        "    }\n",
        "\n",
        "    for train_index, test_index in skf.split(X_train_scaled, y_train):\n",
        "        X_train_fold, X_val_fold = X_train_scaled[train_index], X_train_scaled[test_index]\n",
        "        y_train_fold, y_val_fold = y_train[train_index], y_train[test_index]\n",
        "\n",
        "        lda.fit(X_train_fold, y_train_fold)\n",
        "        y_pred_lda = lda.predict(X_val_fold)\n",
        "        y_proba_lda = lda.predict_proba(X_val_fold)[:,1]\n",
        "        cm = confusion_matrix(y_val_fold, y_pred_lda)\n",
        "        TN, FP, FN, TP = cm.ravel()\n",
        "        sensitivity = TP / (TP + FN) if (TP + FN) != 0 else 0\n",
        "        specificity = TN / (TN + FP) if (TN + FP) != 0 else 0\n",
        "        # Collect metrics for the current fold\n",
        "        fold_metrics[\"accuracy\"].append(accuracy_score(y_val_fold, y_pred_lda))\n",
        "        fold_metrics[\"precision\"].append(precision_score(y_val_fold, y_pred_lda, zero_division=0))\n",
        "        fold_metrics[\"recall\"].append(recall_score(y_val_fold, y_pred_lda))\n",
        "        fold_metrics[\"f1_score\"].append(f1_score(y_val_fold, y_pred_lda))\n",
        "        fold_metrics[\"roc_auc\"].append(roc_auc_score(y_val_fold, y_proba_lda))\n",
        "        fold_metrics[\"MSE\"].append(mean_squared_error(y_val_fold, y_pred_lda))\n",
        "        fold_metrics[\"sensitivity\"].append(sensitivity)\n",
        "        fold_metrics[\"specificity\"].append(specificity)\n",
        "\n",
        "    metrics_lda[\"accuracy_lda\"].append(np.mean(fold_metrics[\"accuracy\"]))\n",
        "    metrics_lda[\"precision_lda\"].append(np.mean(fold_metrics[\"precision\"]))\n",
        "    metrics_lda[\"recall_lda\"].append(np.mean(fold_metrics[\"recall\"]))\n",
        "    metrics_lda[\"f1_score_lda\"].append(np.mean(fold_metrics[\"f1_score\"]))\n",
        "    metrics_lda[\"roc_auc_lda\"].append(np.mean(fold_metrics[\"roc_auc\"]))\n",
        "    metrics_lda[\"MSE_lda\"].append(np.mean(fold_metrics[\"MSE\"]))\n",
        "    metrics_lda[\"sensitivity_lda\"].append(np.mean(fold_metrics[\"sensitivity\"]))\n",
        "    metrics_lda[\"specificity_lda\"].append(np.mean(fold_metrics[\"specificity\"]))\n",
        "\n",
        "avg_metrics_lda = {metric: np.mean(scores) for metric, scores in metrics_lda.items()}\n",
        "print(avg_metrics_lda)\n"
      ],
      "metadata": {
        "colab": {
          "base_uri": "https://localhost:8080/"
        },
        "id": "V9avnssoOUFK",
        "outputId": "07bc194d-b9d7-4647-d779-e0c0b75c9977"
      },
      "execution_count": null,
      "outputs": [
        {
          "output_type": "stream",
          "name": "stdout",
          "text": [
            "{'accuracy_lda': 0.9551686266282833, 'precision_lda': 0.9368413146270351, 'recall_lda': 0.9762895846625479, 'f1_score_lda': 0.9561108372507732, 'roc_auc_lda': 0.991713127466466, 'MSE_lda': 0.04483137337171673, 'sensitivity_lda': 0.9762895846625479, 'specificity_lda': 0.934050590560371}\n"
          ]
        }
      ]
    },
    {
      "cell_type": "code",
      "source": [
        "#average fpr_lda , tpr_lda and threshold_lda for 20 iterations\n",
        "fpr_lda, tpr_lda, threshold_lda = roc_curve(y_val_fold, y_proba_lda)\n",
        "roc_auc_lda = roc_auc_score(y_val_fold, y_proba_lda)\n",
        "print(roc_auc_lda)"
      ],
      "metadata": {
        "colab": {
          "base_uri": "https://localhost:8080/"
        },
        "id": "FurL6V4VhYmT",
        "outputId": "d253612c-0deb-45d7-b822-56694bd07a16"
      },
      "execution_count": null,
      "outputs": [
        {
          "output_type": "stream",
          "name": "stdout",
          "text": [
            "0.9949425001167115\n"
          ]
        }
      ]
    },
    {
      "cell_type": "markdown",
      "source": [
        "## Support Vector Machines"
      ],
      "metadata": {
        "id": "-nvH0Y4F84BY"
      }
    },
    {
      "cell_type": "code",
      "source": [
        "from sklearn.svm import SVC\n",
        "svm = SVC(kernel='linear', probability=True)\n",
        "svm.fit(X_train_scaled, y_train)\n",
        "y_pred_svm = svm.predict(X_test_scaled)\n",
        "print(accuracy_score(y_test, y_pred_svm))"
      ],
      "metadata": {
        "colab": {
          "base_uri": "https://localhost:8080/"
        },
        "id": "8B1SDYwWPaRA",
        "outputId": "6471276b-2585-4f25-b9d8-e5535ac72cca"
      },
      "execution_count": null,
      "outputs": [
        {
          "output_type": "stream",
          "name": "stdout",
          "text": [
            "0.9746588693957114\n"
          ]
        }
      ]
    },
    {
      "cell_type": "code",
      "source": [
        "#Same for Support Vector Machines\n",
        "\n",
        "metrics_svm = {\n",
        "    \"accuracy_svm\": [],\n",
        "    \"precision_svm\": [],\n",
        "    \"recall_svm\": [],\n",
        "    \"f1_score_svm\": [],\n",
        "    \"roc_auc_svm\": [],\n",
        "    \"MSE_svm\": [],\n",
        "    \"sensitivity_svm\":[],\"specificity_svm\":[]\n",
        "}\n",
        "svm = SVC(kernel='linear', probability=True)\n",
        "for i in range(20):\n",
        "    X_train, X_test, y_train, y_test = train_test_split(X_resampled, y_resampled, test_size=0.3, stratify=y_resampled, random_state=i)\n",
        "    y_train= np.array(y_train)\n",
        "    X_train_scaled = scaler.fit_transform(X_train)\n",
        "    X_test_scaled = scaler.transform(X_test)\n",
        "    fold_metrics = {\n",
        "        \"accuracy\": [], \"precision\": [], \"recall\": [], \"f1_score\": [], \"roc_auc\": [], \"MSE\": [], \"sensitivity\": [], \"specificity\": []\n",
        "    }\n",
        "\n",
        "    for train_index, test_index in skf.split(X_train_scaled, y_train):\n",
        "        X_train_fold, X_val_fold = X_train_scaled[train_index], X_train_scaled[test_index]\n",
        "        y_train_fold, y_val_fold = y_train[train_index], y_train[test_index]\n",
        "\n",
        "        svm.fit(X_train_fold, y_train_fold)\n",
        "        y_pred_svm = svm.predict(X_val_fold)\n",
        "        y_proba_svm = svm.predict_proba(X_val_fold)[:,1]\n",
        "        cm = confusion_matrix(y_val_fold, y_pred_svm)\n",
        "        TN, FP, FN, TP = cm.ravel()\n",
        "        sensitivity = TP / (TP + FN) if (TP + FN) != 0 else 0\n",
        "        specificity = TN / (TN + FP) if (TN + FP) != 0 else 0\n",
        "\n",
        "        fold_metrics[\"accuracy\"].append(accuracy_score(y_val_fold, y_pred_svm))\n",
        "        fold_metrics[\"precision\"].append(precision_score(y_val_fold, y_pred_svm, zero_division=0))\n",
        "        fold_metrics[\"recall\"].append(recall_score(y_val_fold, y_pred_svm))\n",
        "        fold_metrics[\"f1_score\"].append(f1_score(y_val_fold, y_pred_svm))\n",
        "        fold_metrics[\"roc_auc\"].append(roc_auc_score(y_val_fold, y_proba_svm))\n",
        "        fold_metrics[\"MSE\"].append(mean_squared_error(y_val_fold, y_pred_svm))\n",
        "        fold_metrics[\"sensitivity\"].append(sensitivity)\n",
        "        fold_metrics[\"specificity\"].append(specificity)\n",
        "\n",
        "      # Append the average metrics of the current run to the overall metrics\n",
        "    metrics_svm[\"accuracy_svm\"].append(np.mean(fold_metrics[\"accuracy\"]))\n",
        "    metrics_svm[\"precision_svm\"].append(np.mean(fold_metrics[\"precision\"]))\n",
        "    metrics_svm[\"recall_svm\"].append(np.mean(fold_metrics[\"recall\"]))\n",
        "    metrics_svm[\"f1_score_svm\"].append(np.mean(fold_metrics[\"f1_score\"]))\n",
        "    metrics_svm[\"roc_auc_svm\"].append(np.mean(fold_metrics[\"roc_auc\"]))\n",
        "    metrics_svm[\"MSE_svm\"].append(np.mean(fold_metrics[\"MSE\"]))\n",
        "    metrics_svm[\"sensitivity_svm\"].append(np.mean(fold_metrics[\"sensitivity\"]))\n",
        "    metrics_svm[\"specificity_svm\"].append(np.mean(fold_metrics[\"specificity\"]))\n",
        "avg_metrics_svm = {metric: np.mean(scores) for metric, scores in metrics_svm.items()}\n",
        "print(avg_metrics_svm)\n"
      ],
      "metadata": {
        "colab": {
          "base_uri": "https://localhost:8080/"
        },
        "id": "tI0OjJzzTAfo",
        "outputId": "c9be3acc-62f4-4e8a-a49c-082b9b618aa8"
      },
      "execution_count": null,
      "outputs": [
        {
          "output_type": "stream",
          "name": "stdout",
          "text": [
            "{'accuracy_svm': 0.9738361829504706, 'precision_svm': 0.9666179318777435, 'recall_svm': 0.9816665629230792, 'f1_score_svm': 0.9740420869892521, 'roc_auc_svm': 0.9937605335682967, 'MSE_svm': 0.026163817049529338, 'sensitivity_svm': 0.9816665629230792, 'specificity_svm': 0.9660065202844648}\n"
          ]
        }
      ]
    },
    {
      "cell_type": "code",
      "source": [
        "#average fpr_svm , tpr_svm and threshold_svm for 20 iterations\n",
        "fpr_svm, tpr_svm, threshold_svm = roc_curve(y_val_fold, y_proba_svm)\n",
        "roc_auc_svm = roc_auc_score(y_val_fold, y_proba_svm)\n",
        "print(roc_auc_svm)"
      ],
      "metadata": {
        "id": "djRHTfXIhmXR",
        "colab": {
          "base_uri": "https://localhost:8080/"
        },
        "outputId": "775eee45-69a5-41ab-9da0-5a383851b2ee"
      },
      "execution_count": null,
      "outputs": [
        {
          "output_type": "stream",
          "name": "stdout",
          "text": [
            "0.9876246868240457\n"
          ]
        }
      ]
    },
    {
      "cell_type": "markdown",
      "source": [
        "## Compare all models\n"
      ],
      "metadata": {
        "id": "kBS8dWQgTf-c"
      }
    },
    {
      "source": [
        "import matplotlib.pyplot as plt\n",
        "import numpy as np\n",
        "models = ['Logistic Regression', 'KNN', 'Decision Tree', 'Naive Bayes', 'LDA', 'SVM']\n",
        "accuracy = [avg_metrics['accuracy_LR'], avg_metrics_knn['accuracy_KNN'], avg_metrics_tree['accuracy_tree'],\n",
        "            avg_metrics_nb['accuracy_nb'], avg_metrics_lda['accuracy_lda'], avg_metrics_svm['accuracy_svm']]\n",
        "f1_scores = [avg_metrics['f1_score_LR'], avg_metrics_knn['f1_score_KNN'], avg_metrics_tree['f1_score_tree'],\n",
        "             avg_metrics_nb['f1_score_nb'], avg_metrics_lda['f1_score_lda'], avg_metrics_svm['f1_score_svm']]\n",
        "colors_accuracy = 'skyblue'\n",
        "colors_f1 = 'lightpink'\n",
        "bar_width = 0.35\n",
        "index = np.arange(len(models))\n",
        "plt.figure(figsize=(12, 6))\n",
        "plt.bar(index, accuracy, bar_width, color=colors_accuracy, label='Accuracy')\n",
        "plt.bar(index + bar_width, f1_scores, bar_width, color=colors_f1, label='F1-Score')\n",
        "plt.xlabel('Model')\n",
        "plt.ylabel('Scores')\n",
        "plt.title('Model Comparison by Accuracy and F1-Score')\n",
        "plt.xticks(index + bar_width / 2, models, rotation=45, ha='right')\n",
        "plt.tight_layout()\n",
        "plt.grid(axis='y', linestyle='--', alpha=0.7)\n",
        "for i in range(len(models)):\n",
        "    plt.text(i, accuracy[i] + 0.01, str(round(accuracy[i], 3)), ha='center', va='bottom')\n",
        "    plt.text(i + bar_width, f1_scores[i] + 0.01, str(round(f1_scores[i], 3)), ha='center', va='bottom')\n",
        "plt.legend(loc=\"lower left\")\n",
        "plt.show()\n"
      ],
      "cell_type": "code",
      "metadata": {
        "colab": {
          "base_uri": "https://localhost:8080/",
          "height": 403
        },
        "id": "CtNSRuZbWDIu",
        "outputId": "9ac6dae0-8bdb-4b9f-b52e-070205c0f4ff"
      },
      "execution_count": null,
      "outputs": [
        {
          "output_type": "display_data",
          "data": {
            "text/plain": [
              "<Figure size 1200x600 with 1 Axes>"
            ],
            "image/png": "[encoded data removed]"
          },
          "metadata": {}
        }
      ]
    },
    {
      "cell_type": "code",
      "source": [
        "#use avg_tpr_model , avg_fpr_model and avg_threshold_model to create a ROC curve\n",
        "plt.figure()\n",
        "plt.plot(fpr_LR, tpr_LR, color='blue', lw=2, label=f'Logistic Regression (AUC = {roc_auc_LR:.2f})')\n",
        "plt.plot(fpr_KNN, tpr_KNN, color='green', lw=2, label=f'KNN (AUC = {roc_auc_KNN:.2f})')\n",
        "plt.plot(fpr_nb, tpr_nb, color='red', lw=2, label=f'Naive Bayes (AUC = {roc_auc_nb:.2f})')\n",
        "plt.plot(fpr_lda, tpr_lda, color='orange', lw=2, label=f'LDA (AUC = {roc_auc_lda:.2f})')\n",
        "plt.plot(fpr_tree, tpr_tree, color='purple', lw=2, label=f'Decision Tree (AUC = {roc_auc_tree:.2f})')\n",
        "plt.plot(fpr_svm, tpr_svm, color='yellow', lw=2, label=f'SVM (AUC = {roc_auc_svm:.2f})')\n",
        "plt.plot([0, 1], [0, 1], color='black', linestyle='--')\n",
        "plt.title('ROC Curves for Classification Models')\n",
        "plt.xlabel('False Positive Rate')\n",
        "plt.ylabel('True Positive Rate')\n",
        "plt.legend(loc='lower right')\n",
        "plt.show()\n"
      ],
      "metadata": {
        "colab": {
          "base_uri": "https://localhost:8080/",
          "height": 472
        },
        "id": "ypMCL7Uyh6q0",
        "outputId": "c7864bd2-bec1-4bb7-82cb-353de4da7eb7"
      },
      "execution_count": null,
      "outputs": [
        {
          "output_type": "display_data",
          "data": {
            "text/plain": [
              "<Figure size 640x480 with 1 Axes>"
            ],
            "image/png": "[encoded data removed]"
          },
          "metadata": {}
        }
      ]
    },
    {
      "source": [
        "import matplotlib.pyplot as plt\n",
        "import numpy as np\n",
        "\n",
        "precision = [avg_metrics['precision_LR'], avg_metrics_knn['precision_KNN'], avg_metrics_tree['precision_tree'], avg_metrics_nb['precision_nb'], avg_metrics_lda['precision_lda'], avg_metrics_svm['precision_svm']]\n",
        "recall = [avg_metrics['recall_LR'], avg_metrics_knn['recall_KNN'], avg_metrics_tree['recall_tree'], avg_metrics_nb['recall_nb'], avg_metrics_lda['recall_lda'], avg_metrics_svm['recall_svm']]\n",
        "barWidth = 0.25\n",
        "r1 = np.arange(len(models))\n",
        "\n",
        "plt.figure(figsize=(10, 6))\n",
        "\n",
        "# Assign the result of plt.bar to precision_bars and recall_bars for later use\n",
        "precision_bars = plt.bar(r1, precision, barWidth, label='Precision', color='Blue') # Assign the result to precision_bars\n",
        "recall_bars = plt.bar(r1 + barWidth, recall, barWidth, label='Recall', color='Red')   # Assign the result to recall_bars\n",
        "\n",
        "\n",
        "plt.xlabel('Model')\n",
        "plt.ylabel('Score')\n",
        "plt.title('Model Comparison by Precision and Recall')\n",
        "plt.xticks(r1 + barWidth/2, models, rotation=45, ha='right')\n",
        "plt.legend(loc='lower left')\n",
        "\n",
        "# Add text labels above the bars for Precision\n",
        "for bar in precision_bars:\n",
        "    height = bar.get_height()\n",
        "    plt.text(bar.get_x() + bar.get_width() / 2, height + 0.01, f'{height:.2f}',\n",
        "             ha='center', va='bottom', fontsize=10)\n",
        "# Add text labels above the bars for Recall\n",
        "for bar in recall_bars:\n",
        "    height = bar.get_height()\n",
        "    plt.text(bar.get_x() + bar.get_width() / 2, height + 0.01, f'{height:.2f}',\n",
        "             ha='center', va='bottom', fontsize=10)\n",
        "plt.tight_layout()\n",
        "plt.show()"
      ],
      "cell_type": "code",
      "metadata": {
        "colab": {
          "base_uri": "https://localhost:8080/",
          "height": 481
        },
        "id": "JB86ukq-xtpO",
        "outputId": "e25e3fff-de1d-4b73-e18f-1ca8c5013960"
      },
      "execution_count": null,
      "outputs": [
        {
          "output_type": "display_data",
          "data": {
            "text/plain": [
              "<Figure size 1000x600 with 1 Axes>"
            ],
            "image/png": "[encoded data removed]"
          },
          "metadata": {}
        }
      ]
    },
    {
      "cell_type": "code",
      "source": [
        "mse_scores = [avg_metrics['MSE_LR'], avg_metrics_knn['MSE_KNN'], avg_metrics_tree['MSE_tree'],\n",
        "              avg_metrics_nb['MSE_nb'], avg_metrics_lda['MSE_lda'], avg_metrics_svm['MSE_svm']]\n",
        "\n",
        "plt.figure(figsize=(10, 6))\n",
        "bars = plt.bar(models, mse_scores, color='pink')\n",
        "plt.ylim(0, max(mse_scores) + 0.1 * max(mse_scores))\n",
        "plt.xlabel('Models')\n",
        "plt.ylabel('MSE')\n",
        "plt.title('Comparison of MSE for Classification Models')\n",
        "plt.xticks(rotation=45, ha='right')\n",
        "for bar in bars:\n",
        "    yval = bar.get_height()\n",
        "    plt.text(bar.get_x() + bar.get_width() / 2, yval + 0.01, round(yval, 2), ha='center', va='bottom')\n",
        "plt.tight_layout()\n",
        "plt.show()\n",
        "\n"
      ],
      "metadata": {
        "colab": {
          "base_uri": "https://localhost:8080/",
          "height": 481
        },
        "id": "3P19Gkid0pgJ",
        "outputId": "61b292df-4f3e-4c9a-c09f-17923ba2fdb7"
      },
      "execution_count": null,
      "outputs": [
        {
          "output_type": "display_data",
          "data": {
            "text/plain": [
              "<Figure size 1000x600 with 1 Axes>"
            ],
            "image/png": "[encoded data removed]"
          },
          "metadata": {}
        }
      ]
    }
  ]
}